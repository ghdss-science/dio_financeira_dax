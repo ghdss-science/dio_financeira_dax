{
 "cells": [
  {
   "cell_type": "markdown",
   "id": "9aaa1e13",
   "metadata": {},
   "source": [
    "### importação dos dados"
   ]
  },
  {
   "cell_type": "code",
   "execution_count": 3,
   "id": "9969136d",
   "metadata": {},
   "outputs": [],
   "source": [
    "import pandas as pd \n",
    "import numpy as np \n",
    "import sqlite3"
   ]
  },
  {
   "cell_type": "markdown",
   "id": "bf77de24",
   "metadata": {},
   "source": [
    "### Leitura dos dados"
   ]
  },
  {
   "cell_type": "code",
   "execution_count": 4,
   "id": "413ac532",
   "metadata": {},
   "outputs": [],
   "source": [
    "financial_sample = pd.read_csv('financial_sample.csv')"
   ]
  },
  {
   "cell_type": "code",
   "execution_count": 5,
   "id": "80c9d08a",
   "metadata": {},
   "outputs": [
    {
     "data": {
      "text/html": [
       "<div>\n",
       "<style scoped>\n",
       "    .dataframe tbody tr th:only-of-type {\n",
       "        vertical-align: middle;\n",
       "    }\n",
       "\n",
       "    .dataframe tbody tr th {\n",
       "        vertical-align: top;\n",
       "    }\n",
       "\n",
       "    .dataframe thead th {\n",
       "        text-align: right;\n",
       "    }\n",
       "</style>\n",
       "<table border=\"1\" class=\"dataframe\">\n",
       "  <thead>\n",
       "    <tr style=\"text-align: right;\">\n",
       "      <th></th>\n",
       "      <th>id</th>\n",
       "      <th>Segment</th>\n",
       "      <th>Country</th>\n",
       "      <th>Product</th>\n",
       "      <th>Discount_Band</th>\n",
       "      <th>Units_Sold</th>\n",
       "      <th>Manufacturing_Price</th>\n",
       "      <th>Sale_Price</th>\n",
       "      <th>Gross_Sales</th>\n",
       "      <th>Discounts</th>\n",
       "      <th>Sales</th>\n",
       "      <th>COGS</th>\n",
       "      <th>Profit</th>\n",
       "      <th>Date</th>\n",
       "      <th>Month_Number</th>\n",
       "      <th>Month Name</th>\n",
       "      <th>Year</th>\n",
       "    </tr>\n",
       "  </thead>\n",
       "  <tbody>\n",
       "    <tr>\n",
       "      <th>0</th>\n",
       "      <td>0</td>\n",
       "      <td>Government</td>\n",
       "      <td>Canada</td>\n",
       "      <td>Carretera</td>\n",
       "      <td>None</td>\n",
       "      <td>1618.5</td>\n",
       "      <td>1618.5</td>\n",
       "      <td>20.0</td>\n",
       "      <td>32370.0</td>\n",
       "      <td>0.00</td>\n",
       "      <td>32370.00</td>\n",
       "      <td>16185.0</td>\n",
       "      <td>16185.00</td>\n",
       "      <td>1/1/2014</td>\n",
       "      <td>1</td>\n",
       "      <td>January</td>\n",
       "      <td>2014</td>\n",
       "    </tr>\n",
       "    <tr>\n",
       "      <th>1</th>\n",
       "      <td>1</td>\n",
       "      <td>Government</td>\n",
       "      <td>Germany</td>\n",
       "      <td>Carretera</td>\n",
       "      <td>None</td>\n",
       "      <td>1321.0</td>\n",
       "      <td>1321.0</td>\n",
       "      <td>20.0</td>\n",
       "      <td>26420.0</td>\n",
       "      <td>0.00</td>\n",
       "      <td>26420.00</td>\n",
       "      <td>13210.0</td>\n",
       "      <td>13210.00</td>\n",
       "      <td>1/1/2014</td>\n",
       "      <td>1</td>\n",
       "      <td>January</td>\n",
       "      <td>2014</td>\n",
       "    </tr>\n",
       "    <tr>\n",
       "      <th>2</th>\n",
       "      <td>2</td>\n",
       "      <td>Midmarket</td>\n",
       "      <td>France</td>\n",
       "      <td>Carretera</td>\n",
       "      <td>None</td>\n",
       "      <td>2178.0</td>\n",
       "      <td>2178.0</td>\n",
       "      <td>15.0</td>\n",
       "      <td>32670.0</td>\n",
       "      <td>0.00</td>\n",
       "      <td>32670.00</td>\n",
       "      <td>21780.0</td>\n",
       "      <td>10890.00</td>\n",
       "      <td>6/1/2014</td>\n",
       "      <td>6</td>\n",
       "      <td>June</td>\n",
       "      <td>2014</td>\n",
       "    </tr>\n",
       "    <tr>\n",
       "      <th>3</th>\n",
       "      <td>3</td>\n",
       "      <td>Midmarket</td>\n",
       "      <td>Germany</td>\n",
       "      <td>Carretera</td>\n",
       "      <td>None</td>\n",
       "      <td>888.0</td>\n",
       "      <td>888.0</td>\n",
       "      <td>15.0</td>\n",
       "      <td>13320.0</td>\n",
       "      <td>0.00</td>\n",
       "      <td>13320.00</td>\n",
       "      <td>8880.0</td>\n",
       "      <td>4440.00</td>\n",
       "      <td>6/1/2014</td>\n",
       "      <td>6</td>\n",
       "      <td>June</td>\n",
       "      <td>2014</td>\n",
       "    </tr>\n",
       "    <tr>\n",
       "      <th>4</th>\n",
       "      <td>4</td>\n",
       "      <td>Midmarket</td>\n",
       "      <td>Mexico</td>\n",
       "      <td>Carretera</td>\n",
       "      <td>None</td>\n",
       "      <td>2470.0</td>\n",
       "      <td>2470.0</td>\n",
       "      <td>15.0</td>\n",
       "      <td>37050.0</td>\n",
       "      <td>0.00</td>\n",
       "      <td>37050.00</td>\n",
       "      <td>24700.0</td>\n",
       "      <td>12350.00</td>\n",
       "      <td>6/1/2014</td>\n",
       "      <td>6</td>\n",
       "      <td>June</td>\n",
       "      <td>2014</td>\n",
       "    </tr>\n",
       "    <tr>\n",
       "      <th>...</th>\n",
       "      <td>...</td>\n",
       "      <td>...</td>\n",
       "      <td>...</td>\n",
       "      <td>...</td>\n",
       "      <td>...</td>\n",
       "      <td>...</td>\n",
       "      <td>...</td>\n",
       "      <td>...</td>\n",
       "      <td>...</td>\n",
       "      <td>...</td>\n",
       "      <td>...</td>\n",
       "      <td>...</td>\n",
       "      <td>...</td>\n",
       "      <td>...</td>\n",
       "      <td>...</td>\n",
       "      <td>...</td>\n",
       "      <td>...</td>\n",
       "    </tr>\n",
       "    <tr>\n",
       "      <th>695</th>\n",
       "      <td>695</td>\n",
       "      <td>Small Business</td>\n",
       "      <td>France</td>\n",
       "      <td>Amarilla</td>\n",
       "      <td>High</td>\n",
       "      <td>2475.0</td>\n",
       "      <td>2475.0</td>\n",
       "      <td>300.0</td>\n",
       "      <td>742500.0</td>\n",
       "      <td>111375.00</td>\n",
       "      <td>631125.00</td>\n",
       "      <td>618750.0</td>\n",
       "      <td>12375.00</td>\n",
       "      <td>3/1/2014</td>\n",
       "      <td>3</td>\n",
       "      <td>March</td>\n",
       "      <td>2014</td>\n",
       "    </tr>\n",
       "    <tr>\n",
       "      <th>696</th>\n",
       "      <td>696</td>\n",
       "      <td>Small Business</td>\n",
       "      <td>Mexico</td>\n",
       "      <td>Amarilla</td>\n",
       "      <td>High</td>\n",
       "      <td>546.0</td>\n",
       "      <td>546.0</td>\n",
       "      <td>300.0</td>\n",
       "      <td>163800.0</td>\n",
       "      <td>24570.00</td>\n",
       "      <td>139230.00</td>\n",
       "      <td>136500.0</td>\n",
       "      <td>2730.00</td>\n",
       "      <td>10/1/2014</td>\n",
       "      <td>10</td>\n",
       "      <td>October</td>\n",
       "      <td>2014</td>\n",
       "    </tr>\n",
       "    <tr>\n",
       "      <th>697</th>\n",
       "      <td>697</td>\n",
       "      <td>Government</td>\n",
       "      <td>Mexico</td>\n",
       "      <td>Montana</td>\n",
       "      <td>High</td>\n",
       "      <td>1368.0</td>\n",
       "      <td>1368.0</td>\n",
       "      <td>7.0</td>\n",
       "      <td>9576.0</td>\n",
       "      <td>1436.40</td>\n",
       "      <td>8139.60</td>\n",
       "      <td>6840.0</td>\n",
       "      <td>1299.60</td>\n",
       "      <td>2/1/2014</td>\n",
       "      <td>2</td>\n",
       "      <td>February</td>\n",
       "      <td>2014</td>\n",
       "    </tr>\n",
       "    <tr>\n",
       "      <th>698</th>\n",
       "      <td>698</td>\n",
       "      <td>Government</td>\n",
       "      <td>Canada</td>\n",
       "      <td>Paseo</td>\n",
       "      <td>High</td>\n",
       "      <td>723.0</td>\n",
       "      <td>723.0</td>\n",
       "      <td>7.0</td>\n",
       "      <td>5061.0</td>\n",
       "      <td>759.15</td>\n",
       "      <td>4301.85</td>\n",
       "      <td>3615.0</td>\n",
       "      <td>686.85</td>\n",
       "      <td>4/1/2014</td>\n",
       "      <td>4</td>\n",
       "      <td>April</td>\n",
       "      <td>2014</td>\n",
       "    </tr>\n",
       "    <tr>\n",
       "      <th>699</th>\n",
       "      <td>699</td>\n",
       "      <td>Channel Partners</td>\n",
       "      <td>United States of America</td>\n",
       "      <td>VTT</td>\n",
       "      <td>High</td>\n",
       "      <td>1806.0</td>\n",
       "      <td>1806.0</td>\n",
       "      <td>12.0</td>\n",
       "      <td>21672.0</td>\n",
       "      <td>3250.80</td>\n",
       "      <td>18421.20</td>\n",
       "      <td>5418.0</td>\n",
       "      <td>13003.20</td>\n",
       "      <td>5/1/2014</td>\n",
       "      <td>5</td>\n",
       "      <td>May</td>\n",
       "      <td>2014</td>\n",
       "    </tr>\n",
       "  </tbody>\n",
       "</table>\n",
       "<p>700 rows × 17 columns</p>\n",
       "</div>"
      ],
      "text/plain": [
       "      id           Segment                   Country    Product Discount_Band  \\\n",
       "0      0        Government                    Canada  Carretera          None   \n",
       "1      1        Government                   Germany  Carretera          None   \n",
       "2      2         Midmarket                    France  Carretera          None   \n",
       "3      3         Midmarket                   Germany  Carretera          None   \n",
       "4      4         Midmarket                    Mexico  Carretera          None   \n",
       "..   ...               ...                       ...        ...           ...   \n",
       "695  695    Small Business                    France   Amarilla          High   \n",
       "696  696    Small Business                    Mexico   Amarilla          High   \n",
       "697  697        Government                    Mexico    Montana          High   \n",
       "698  698        Government                    Canada      Paseo          High   \n",
       "699  699  Channel Partners  United States of America        VTT          High   \n",
       "\n",
       "     Units_Sold  Manufacturing_Price  Sale_Price  Gross_Sales  Discounts  \\\n",
       "0        1618.5               1618.5        20.0      32370.0       0.00   \n",
       "1        1321.0               1321.0        20.0      26420.0       0.00   \n",
       "2        2178.0               2178.0        15.0      32670.0       0.00   \n",
       "3         888.0                888.0        15.0      13320.0       0.00   \n",
       "4        2470.0               2470.0        15.0      37050.0       0.00   \n",
       "..          ...                  ...         ...          ...        ...   \n",
       "695      2475.0               2475.0       300.0     742500.0  111375.00   \n",
       "696       546.0                546.0       300.0     163800.0   24570.00   \n",
       "697      1368.0               1368.0         7.0       9576.0    1436.40   \n",
       "698       723.0                723.0         7.0       5061.0     759.15   \n",
       "699      1806.0               1806.0        12.0      21672.0    3250.80   \n",
       "\n",
       "         Sales      COGS    Profit       Date  Month_Number Month Name  Year  \n",
       "0     32370.00   16185.0  16185.00   1/1/2014             1    January  2014  \n",
       "1     26420.00   13210.0  13210.00   1/1/2014             1    January  2014  \n",
       "2     32670.00   21780.0  10890.00   6/1/2014             6       June  2014  \n",
       "3     13320.00    8880.0   4440.00   6/1/2014             6       June  2014  \n",
       "4     37050.00   24700.0  12350.00   6/1/2014             6       June  2014  \n",
       "..         ...       ...       ...        ...           ...        ...   ...  \n",
       "695  631125.00  618750.0  12375.00   3/1/2014             3      March  2014  \n",
       "696  139230.00  136500.0   2730.00  10/1/2014            10    October  2014  \n",
       "697    8139.60    6840.0   1299.60   2/1/2014             2   February  2014  \n",
       "698    4301.85    3615.0    686.85   4/1/2014             4      April  2014  \n",
       "699   18421.20    5418.0  13003.20   5/1/2014             5        May  2014  \n",
       "\n",
       "[700 rows x 17 columns]"
      ]
     },
     "execution_count": 5,
     "metadata": {},
     "output_type": "execute_result"
    }
   ],
   "source": [
    "financial_sample"
   ]
  },
  {
   "cell_type": "markdown",
   "id": "6dd99eda",
   "metadata": {},
   "source": [
    "### Divisão das colunas para modelo Star Schema - Dimensões "
   ]
  },
  {
   "cell_type": "markdown",
   "id": "6453e802",
   "metadata": {},
   "source": [
    "*** Dim_Tempo"
   ]
  },
  {
   "cell_type": "code",
   "execution_count": 6,
   "id": "1c1ddb9a",
   "metadata": {},
   "outputs": [],
   "source": [
    "dim_tempo = pd.DataFrame({\n",
    "    \n",
    "    \"data\": financial_sample['Date'], \n",
    "})"
   ]
  },
  {
   "cell_type": "code",
   "execution_count": 7,
   "id": "c8812398",
   "metadata": {},
   "outputs": [
    {
     "data": {
      "text/plain": [
       "data    0\n",
       "dtype: int64"
      ]
     },
     "execution_count": 7,
     "metadata": {},
     "output_type": "execute_result"
    }
   ],
   "source": [
    "### Verificação de dados nulos\n",
    "dim_tempo.isna().sum()"
   ]
  },
  {
   "cell_type": "code",
   "execution_count": 8,
   "id": "7768cc7e",
   "metadata": {},
   "outputs": [
    {
     "data": {
      "text/plain": [
       "684"
      ]
     },
     "execution_count": 8,
     "metadata": {},
     "output_type": "execute_result"
    }
   ],
   "source": [
    "### Verificação de dados duplicados \n",
    "dim_tempo.duplicated().sum()"
   ]
  },
  {
   "cell_type": "code",
   "execution_count": 9,
   "id": "15d6df71",
   "metadata": {},
   "outputs": [],
   "source": [
    "### Removendo dados duplicados \n",
    "dim_tempo = dim_tempo.drop_duplicates()\n",
    "dim_tempo_count = dim_tempo.count()[0]"
   ]
  },
  {
   "cell_type": "code",
   "execution_count": 10,
   "id": "75340ba3",
   "metadata": {},
   "outputs": [
    {
     "data": {
      "text/html": [
       "<div>\n",
       "<style scoped>\n",
       "    .dataframe tbody tr th:only-of-type {\n",
       "        vertical-align: middle;\n",
       "    }\n",
       "\n",
       "    .dataframe tbody tr th {\n",
       "        vertical-align: top;\n",
       "    }\n",
       "\n",
       "    .dataframe thead th {\n",
       "        text-align: right;\n",
       "    }\n",
       "</style>\n",
       "<table border=\"1\" class=\"dataframe\">\n",
       "  <thead>\n",
       "    <tr style=\"text-align: right;\">\n",
       "      <th></th>\n",
       "      <th>Total do tempo</th>\n",
       "    </tr>\n",
       "  </thead>\n",
       "  <tbody>\n",
       "    <tr>\n",
       "      <th>0</th>\n",
       "      <td>16</td>\n",
       "    </tr>\n",
       "  </tbody>\n",
       "</table>\n",
       "</div>"
      ],
      "text/plain": [
       "   Total do tempo\n",
       "0              16"
      ]
     },
     "execution_count": 10,
     "metadata": {},
     "output_type": "execute_result"
    }
   ],
   "source": [
    "pd.DataFrame({\"Total do tempo\" : [dim_tempo_count]})"
   ]
  },
  {
   "cell_type": "code",
   "execution_count": 11,
   "id": "7c6b15e4",
   "metadata": {},
   "outputs": [],
   "source": [
    "# Converter a coluna 'data' para datetime\n",
    "dim_tempo['data'] = pd.to_datetime(dim_tempo['data'], format='%d/%m/%Y')"
   ]
  },
  {
   "cell_type": "code",
   "execution_count": 12,
   "id": "0ac7832b",
   "metadata": {},
   "outputs": [],
   "source": [
    "# Converter para o formato 'yyyy-m-d' sem zeros à esquerda\n",
    "dim_tempo['data'] = dim_tempo['data'].dt.strftime('%Y-%-m-%-d')"
   ]
  },
  {
   "cell_type": "code",
   "execution_count": 13,
   "id": "c21aab6e",
   "metadata": {},
   "outputs": [
    {
     "data": {
      "text/html": [
       "<div>\n",
       "<style scoped>\n",
       "    .dataframe tbody tr th:only-of-type {\n",
       "        vertical-align: middle;\n",
       "    }\n",
       "\n",
       "    .dataframe tbody tr th {\n",
       "        vertical-align: top;\n",
       "    }\n",
       "\n",
       "    .dataframe thead th {\n",
       "        text-align: right;\n",
       "    }\n",
       "</style>\n",
       "<table border=\"1\" class=\"dataframe\">\n",
       "  <thead>\n",
       "    <tr style=\"text-align: right;\">\n",
       "      <th></th>\n",
       "      <th>data</th>\n",
       "    </tr>\n",
       "  </thead>\n",
       "  <tbody>\n",
       "    <tr>\n",
       "      <th>0</th>\n",
       "      <td>2014-1-1</td>\n",
       "    </tr>\n",
       "    <tr>\n",
       "      <th>2</th>\n",
       "      <td>2014-1-6</td>\n",
       "    </tr>\n",
       "    <tr>\n",
       "      <th>5</th>\n",
       "      <td>2014-1-12</td>\n",
       "    </tr>\n",
       "    <tr>\n",
       "      <th>6</th>\n",
       "      <td>2014-1-3</td>\n",
       "    </tr>\n",
       "    <tr>\n",
       "      <th>11</th>\n",
       "      <td>2014-1-7</td>\n",
       "    </tr>\n",
       "    <tr>\n",
       "      <th>12</th>\n",
       "      <td>2014-1-8</td>\n",
       "    </tr>\n",
       "    <tr>\n",
       "      <th>13</th>\n",
       "      <td>2014-1-9</td>\n",
       "    </tr>\n",
       "    <tr>\n",
       "      <th>14</th>\n",
       "      <td>2013-1-10</td>\n",
       "    </tr>\n",
       "    <tr>\n",
       "      <th>16</th>\n",
       "      <td>2014-1-2</td>\n",
       "    </tr>\n",
       "    <tr>\n",
       "      <th>22</th>\n",
       "      <td>2013-1-9</td>\n",
       "    </tr>\n",
       "    <tr>\n",
       "      <th>25</th>\n",
       "      <td>2014-1-10</td>\n",
       "    </tr>\n",
       "    <tr>\n",
       "      <th>26</th>\n",
       "      <td>2013-1-11</td>\n",
       "    </tr>\n",
       "    <tr>\n",
       "      <th>28</th>\n",
       "      <td>2013-1-12</td>\n",
       "    </tr>\n",
       "    <tr>\n",
       "      <th>39</th>\n",
       "      <td>2014-1-4</td>\n",
       "    </tr>\n",
       "    <tr>\n",
       "      <th>55</th>\n",
       "      <td>2014-1-5</td>\n",
       "    </tr>\n",
       "    <tr>\n",
       "      <th>56</th>\n",
       "      <td>2014-1-11</td>\n",
       "    </tr>\n",
       "  </tbody>\n",
       "</table>\n",
       "</div>"
      ],
      "text/plain": [
       "         data\n",
       "0    2014-1-1\n",
       "2    2014-1-6\n",
       "5   2014-1-12\n",
       "6    2014-1-3\n",
       "11   2014-1-7\n",
       "12   2014-1-8\n",
       "13   2014-1-9\n",
       "14  2013-1-10\n",
       "16   2014-1-2\n",
       "22   2013-1-9\n",
       "25  2014-1-10\n",
       "26  2013-1-11\n",
       "28  2013-1-12\n",
       "39   2014-1-4\n",
       "55   2014-1-5\n",
       "56  2014-1-11"
      ]
     },
     "execution_count": 13,
     "metadata": {},
     "output_type": "execute_result"
    }
   ],
   "source": [
    "dim_tempo"
   ]
  },
  {
   "cell_type": "markdown",
   "id": "aa0ad2ba",
   "metadata": {},
   "source": [
    "*** Fim do Dim_Tempo "
   ]
  },
  {
   "cell_type": "markdown",
   "id": "b37a7eb7",
   "metadata": {},
   "source": [
    "### Dim_Produto "
   ]
  },
  {
   "cell_type": "code",
   "execution_count": 14,
   "id": "41c414e0",
   "metadata": {},
   "outputs": [],
   "source": [
    "dim_produto = pd.DataFrame({\n",
    "    \n",
    "    \"produto\": financial_sample['Product'], \n",
    "    \"preco_de_fabricacao\": financial_sample['Manufacturing_Price'], \n",
    "    \"preco_de_venda\": financial_sample['Sale_Price']\n",
    "})"
   ]
  },
  {
   "cell_type": "code",
   "execution_count": 15,
   "id": "1f94081f",
   "metadata": {},
   "outputs": [
    {
     "data": {
      "text/plain": [
       "produto                0\n",
       "preco_de_fabricacao    0\n",
       "preco_de_venda         0\n",
       "dtype: int64"
      ]
     },
     "execution_count": 15,
     "metadata": {},
     "output_type": "execute_result"
    }
   ],
   "source": [
    "### Verificação de dados nulos\n",
    "dim_produto.isna().sum()"
   ]
  },
  {
   "cell_type": "code",
   "execution_count": 16,
   "id": "bb31eae0",
   "metadata": {},
   "outputs": [
    {
     "data": {
      "text/plain": [
       "5"
      ]
     },
     "execution_count": 16,
     "metadata": {},
     "output_type": "execute_result"
    }
   ],
   "source": [
    "### Verificação de dados duplicados \n",
    "dim_produto.duplicated().sum()"
   ]
  },
  {
   "cell_type": "code",
   "execution_count": 17,
   "id": "f2674c65",
   "metadata": {},
   "outputs": [],
   "source": [
    "### Removendo dados duplicados \n",
    "dim_produto = dim_produto.drop_duplicates()\n",
    "dim_produto_count = dim_produto.count()[0]"
   ]
  },
  {
   "cell_type": "code",
   "execution_count": 18,
   "id": "53ba849a",
   "metadata": {},
   "outputs": [
    {
     "data": {
      "text/html": [
       "<div>\n",
       "<style scoped>\n",
       "    .dataframe tbody tr th:only-of-type {\n",
       "        vertical-align: middle;\n",
       "    }\n",
       "\n",
       "    .dataframe tbody tr th {\n",
       "        vertical-align: top;\n",
       "    }\n",
       "\n",
       "    .dataframe thead th {\n",
       "        text-align: right;\n",
       "    }\n",
       "</style>\n",
       "<table border=\"1\" class=\"dataframe\">\n",
       "  <thead>\n",
       "    <tr style=\"text-align: right;\">\n",
       "      <th></th>\n",
       "      <th>Total dos produtos</th>\n",
       "    </tr>\n",
       "  </thead>\n",
       "  <tbody>\n",
       "    <tr>\n",
       "      <th>0</th>\n",
       "      <td>695</td>\n",
       "    </tr>\n",
       "  </tbody>\n",
       "</table>\n",
       "</div>"
      ],
      "text/plain": [
       "   Total dos produtos\n",
       "0                 695"
      ]
     },
     "execution_count": 18,
     "metadata": {},
     "output_type": "execute_result"
    }
   ],
   "source": [
    "pd.DataFrame({\"Total dos produtos\" : [dim_produto_count]})"
   ]
  },
  {
   "cell_type": "code",
   "execution_count": 19,
   "id": "5c1117e3",
   "metadata": {},
   "outputs": [
    {
     "data": {
      "text/html": [
       "<div>\n",
       "<style scoped>\n",
       "    .dataframe tbody tr th:only-of-type {\n",
       "        vertical-align: middle;\n",
       "    }\n",
       "\n",
       "    .dataframe tbody tr th {\n",
       "        vertical-align: top;\n",
       "    }\n",
       "\n",
       "    .dataframe thead th {\n",
       "        text-align: right;\n",
       "    }\n",
       "</style>\n",
       "<table border=\"1\" class=\"dataframe\">\n",
       "  <thead>\n",
       "    <tr style=\"text-align: right;\">\n",
       "      <th></th>\n",
       "      <th>produto</th>\n",
       "      <th>preco_de_fabricacao</th>\n",
       "      <th>preco_de_venda</th>\n",
       "    </tr>\n",
       "  </thead>\n",
       "  <tbody>\n",
       "    <tr>\n",
       "      <th>0</th>\n",
       "      <td>Carretera</td>\n",
       "      <td>1618.5</td>\n",
       "      <td>20.0</td>\n",
       "    </tr>\n",
       "    <tr>\n",
       "      <th>1</th>\n",
       "      <td>Carretera</td>\n",
       "      <td>1321.0</td>\n",
       "      <td>20.0</td>\n",
       "    </tr>\n",
       "    <tr>\n",
       "      <th>2</th>\n",
       "      <td>Carretera</td>\n",
       "      <td>2178.0</td>\n",
       "      <td>15.0</td>\n",
       "    </tr>\n",
       "    <tr>\n",
       "      <th>3</th>\n",
       "      <td>Carretera</td>\n",
       "      <td>888.0</td>\n",
       "      <td>15.0</td>\n",
       "    </tr>\n",
       "    <tr>\n",
       "      <th>4</th>\n",
       "      <td>Carretera</td>\n",
       "      <td>2470.0</td>\n",
       "      <td>15.0</td>\n",
       "    </tr>\n",
       "    <tr>\n",
       "      <th>...</th>\n",
       "      <td>...</td>\n",
       "      <td>...</td>\n",
       "      <td>...</td>\n",
       "    </tr>\n",
       "    <tr>\n",
       "      <th>695</th>\n",
       "      <td>Amarilla</td>\n",
       "      <td>2475.0</td>\n",
       "      <td>300.0</td>\n",
       "    </tr>\n",
       "    <tr>\n",
       "      <th>696</th>\n",
       "      <td>Amarilla</td>\n",
       "      <td>546.0</td>\n",
       "      <td>300.0</td>\n",
       "    </tr>\n",
       "    <tr>\n",
       "      <th>697</th>\n",
       "      <td>Montana</td>\n",
       "      <td>1368.0</td>\n",
       "      <td>7.0</td>\n",
       "    </tr>\n",
       "    <tr>\n",
       "      <th>698</th>\n",
       "      <td>Paseo</td>\n",
       "      <td>723.0</td>\n",
       "      <td>7.0</td>\n",
       "    </tr>\n",
       "    <tr>\n",
       "      <th>699</th>\n",
       "      <td>VTT</td>\n",
       "      <td>1806.0</td>\n",
       "      <td>12.0</td>\n",
       "    </tr>\n",
       "  </tbody>\n",
       "</table>\n",
       "<p>695 rows × 3 columns</p>\n",
       "</div>"
      ],
      "text/plain": [
       "       produto  preco_de_fabricacao  preco_de_venda\n",
       "0    Carretera               1618.5            20.0\n",
       "1    Carretera               1321.0            20.0\n",
       "2    Carretera               2178.0            15.0\n",
       "3    Carretera                888.0            15.0\n",
       "4    Carretera               2470.0            15.0\n",
       "..         ...                  ...             ...\n",
       "695   Amarilla               2475.0           300.0\n",
       "696   Amarilla                546.0           300.0\n",
       "697    Montana               1368.0             7.0\n",
       "698      Paseo                723.0             7.0\n",
       "699        VTT               1806.0            12.0\n",
       "\n",
       "[695 rows x 3 columns]"
      ]
     },
     "execution_count": 19,
     "metadata": {},
     "output_type": "execute_result"
    }
   ],
   "source": [
    "dim_produto"
   ]
  },
  {
   "cell_type": "markdown",
   "id": "6d0f8dba",
   "metadata": {},
   "source": [
    "### Dim_País "
   ]
  },
  {
   "cell_type": "code",
   "execution_count": 20,
   "id": "f8182d76",
   "metadata": {},
   "outputs": [],
   "source": [
    "dim_pais = pd.DataFrame({\n",
    "    \n",
    "    \"pais\": financial_sample['Country'],\n",
    "})"
   ]
  },
  {
   "cell_type": "code",
   "execution_count": 21,
   "id": "8c0879bd",
   "metadata": {},
   "outputs": [
    {
     "data": {
      "text/plain": [
       "pais    0\n",
       "dtype: int64"
      ]
     },
     "execution_count": 21,
     "metadata": {},
     "output_type": "execute_result"
    }
   ],
   "source": [
    "### Verificação de dados nulos\n",
    "dim_pais.isna().sum()"
   ]
  },
  {
   "cell_type": "code",
   "execution_count": 22,
   "id": "2bd29d32",
   "metadata": {},
   "outputs": [
    {
     "data": {
      "text/plain": [
       "695"
      ]
     },
     "execution_count": 22,
     "metadata": {},
     "output_type": "execute_result"
    }
   ],
   "source": [
    "### Verificação de dados duplicados \n",
    "dim_pais.duplicated().sum()"
   ]
  },
  {
   "cell_type": "code",
   "execution_count": 23,
   "id": "d60e1bf7",
   "metadata": {},
   "outputs": [],
   "source": [
    "### Removendo dados duplicados \n",
    "dim_pais = dim_pais.drop_duplicates()\n",
    "dim_pais_count = dim_pais.count()[0]"
   ]
  },
  {
   "cell_type": "code",
   "execution_count": 24,
   "id": "490c8b86",
   "metadata": {},
   "outputs": [
    {
     "data": {
      "text/html": [
       "<div>\n",
       "<style scoped>\n",
       "    .dataframe tbody tr th:only-of-type {\n",
       "        vertical-align: middle;\n",
       "    }\n",
       "\n",
       "    .dataframe tbody tr th {\n",
       "        vertical-align: top;\n",
       "    }\n",
       "\n",
       "    .dataframe thead th {\n",
       "        text-align: right;\n",
       "    }\n",
       "</style>\n",
       "<table border=\"1\" class=\"dataframe\">\n",
       "  <thead>\n",
       "    <tr style=\"text-align: right;\">\n",
       "      <th></th>\n",
       "      <th>Total dos pais</th>\n",
       "    </tr>\n",
       "  </thead>\n",
       "  <tbody>\n",
       "    <tr>\n",
       "      <th>0</th>\n",
       "      <td>5</td>\n",
       "    </tr>\n",
       "  </tbody>\n",
       "</table>\n",
       "</div>"
      ],
      "text/plain": [
       "   Total dos pais\n",
       "0               5"
      ]
     },
     "execution_count": 24,
     "metadata": {},
     "output_type": "execute_result"
    }
   ],
   "source": [
    "pd.DataFrame({\"Total dos pais\" : [dim_pais_count]})"
   ]
  },
  {
   "cell_type": "code",
   "execution_count": 25,
   "id": "c1c6468a",
   "metadata": {},
   "outputs": [
    {
     "data": {
      "text/html": [
       "<div>\n",
       "<style scoped>\n",
       "    .dataframe tbody tr th:only-of-type {\n",
       "        vertical-align: middle;\n",
       "    }\n",
       "\n",
       "    .dataframe tbody tr th {\n",
       "        vertical-align: top;\n",
       "    }\n",
       "\n",
       "    .dataframe thead th {\n",
       "        text-align: right;\n",
       "    }\n",
       "</style>\n",
       "<table border=\"1\" class=\"dataframe\">\n",
       "  <thead>\n",
       "    <tr style=\"text-align: right;\">\n",
       "      <th></th>\n",
       "      <th>pais</th>\n",
       "    </tr>\n",
       "  </thead>\n",
       "  <tbody>\n",
       "    <tr>\n",
       "      <th>0</th>\n",
       "      <td>Canada</td>\n",
       "    </tr>\n",
       "    <tr>\n",
       "      <th>1</th>\n",
       "      <td>Germany</td>\n",
       "    </tr>\n",
       "    <tr>\n",
       "      <th>2</th>\n",
       "      <td>France</td>\n",
       "    </tr>\n",
       "    <tr>\n",
       "      <th>4</th>\n",
       "      <td>Mexico</td>\n",
       "    </tr>\n",
       "    <tr>\n",
       "      <th>15</th>\n",
       "      <td>United States of America</td>\n",
       "    </tr>\n",
       "  </tbody>\n",
       "</table>\n",
       "</div>"
      ],
      "text/plain": [
       "                        pais\n",
       "0                     Canada\n",
       "1                    Germany\n",
       "2                     France\n",
       "4                     Mexico\n",
       "15  United States of America"
      ]
     },
     "execution_count": 25,
     "metadata": {},
     "output_type": "execute_result"
    }
   ],
   "source": [
    "### Fim do Dim_Pais\n",
    "dim_pais"
   ]
  },
  {
   "cell_type": "markdown",
   "id": "b8b86974",
   "metadata": {},
   "source": [
    "### Dim Segmento \n"
   ]
  },
  {
   "cell_type": "code",
   "execution_count": 26,
   "id": "6fca72fc",
   "metadata": {},
   "outputs": [],
   "source": [
    "dim_segmento = pd.DataFrame({\n",
    "    \n",
    "    \"segmento\": financial_sample['Segment']\n",
    "})"
   ]
  },
  {
   "cell_type": "code",
   "execution_count": 27,
   "id": "b5bfda38",
   "metadata": {},
   "outputs": [
    {
     "data": {
      "text/plain": [
       "segmento    0\n",
       "dtype: int64"
      ]
     },
     "execution_count": 27,
     "metadata": {},
     "output_type": "execute_result"
    }
   ],
   "source": [
    "### Verificação de dados nulos\n",
    "dim_segmento.isna().sum()"
   ]
  },
  {
   "cell_type": "code",
   "execution_count": 28,
   "id": "2c397f23",
   "metadata": {},
   "outputs": [
    {
     "data": {
      "text/plain": [
       "695"
      ]
     },
     "execution_count": 28,
     "metadata": {},
     "output_type": "execute_result"
    }
   ],
   "source": [
    "### Verificação de dados duplicados \n",
    "dim_segmento.duplicated().sum()"
   ]
  },
  {
   "cell_type": "code",
   "execution_count": 29,
   "id": "b864e9db",
   "metadata": {},
   "outputs": [],
   "source": [
    "### Removendo dados duplicados \n",
    "dim_segmento = dim_segmento.drop_duplicates()\n",
    "dim_segmento_count = dim_segmento.count()[0]"
   ]
  },
  {
   "cell_type": "code",
   "execution_count": 30,
   "id": "cafe7ce6",
   "metadata": {},
   "outputs": [
    {
     "data": {
      "text/html": [
       "<div>\n",
       "<style scoped>\n",
       "    .dataframe tbody tr th:only-of-type {\n",
       "        vertical-align: middle;\n",
       "    }\n",
       "\n",
       "    .dataframe tbody tr th {\n",
       "        vertical-align: top;\n",
       "    }\n",
       "\n",
       "    .dataframe thead th {\n",
       "        text-align: right;\n",
       "    }\n",
       "</style>\n",
       "<table border=\"1\" class=\"dataframe\">\n",
       "  <thead>\n",
       "    <tr style=\"text-align: right;\">\n",
       "      <th></th>\n",
       "      <th>Total dos Segmentos</th>\n",
       "    </tr>\n",
       "  </thead>\n",
       "  <tbody>\n",
       "    <tr>\n",
       "      <th>0</th>\n",
       "      <td>5</td>\n",
       "    </tr>\n",
       "  </tbody>\n",
       "</table>\n",
       "</div>"
      ],
      "text/plain": [
       "   Total dos Segmentos\n",
       "0                    5"
      ]
     },
     "execution_count": 30,
     "metadata": {},
     "output_type": "execute_result"
    }
   ],
   "source": [
    "pd.DataFrame({\"Total dos Segmentos\" : [dim_segmento_count]})"
   ]
  },
  {
   "cell_type": "code",
   "execution_count": 31,
   "id": "0957719b",
   "metadata": {},
   "outputs": [
    {
     "data": {
      "text/html": [
       "<div>\n",
       "<style scoped>\n",
       "    .dataframe tbody tr th:only-of-type {\n",
       "        vertical-align: middle;\n",
       "    }\n",
       "\n",
       "    .dataframe tbody tr th {\n",
       "        vertical-align: top;\n",
       "    }\n",
       "\n",
       "    .dataframe thead th {\n",
       "        text-align: right;\n",
       "    }\n",
       "</style>\n",
       "<table border=\"1\" class=\"dataframe\">\n",
       "  <thead>\n",
       "    <tr style=\"text-align: right;\">\n",
       "      <th></th>\n",
       "      <th>segmento</th>\n",
       "    </tr>\n",
       "  </thead>\n",
       "  <tbody>\n",
       "    <tr>\n",
       "      <th>0</th>\n",
       "      <td>Government</td>\n",
       "    </tr>\n",
       "    <tr>\n",
       "      <th>2</th>\n",
       "      <td>Midmarket</td>\n",
       "    </tr>\n",
       "    <tr>\n",
       "      <th>7</th>\n",
       "      <td>Channel Partners</td>\n",
       "    </tr>\n",
       "    <tr>\n",
       "      <th>11</th>\n",
       "      <td>Enterprise</td>\n",
       "    </tr>\n",
       "    <tr>\n",
       "      <th>12</th>\n",
       "      <td>Small Business</td>\n",
       "    </tr>\n",
       "  </tbody>\n",
       "</table>\n",
       "</div>"
      ],
      "text/plain": [
       "            segmento\n",
       "0         Government\n",
       "2          Midmarket\n",
       "7   Channel Partners\n",
       "11        Enterprise\n",
       "12    Small Business"
      ]
     },
     "execution_count": 31,
     "metadata": {},
     "output_type": "execute_result"
    }
   ],
   "source": [
    "### Fim do Dim_Segmento\n",
    "dim_segmento"
   ]
  },
  {
   "cell_type": "markdown",
   "id": "aba11f7f",
   "metadata": {},
   "source": [
    "### Dim Desconto "
   ]
  },
  {
   "cell_type": "code",
   "execution_count": 32,
   "id": "09f365f3",
   "metadata": {},
   "outputs": [],
   "source": [
    "dim_desconto = pd.DataFrame({\n",
    "    \n",
    "    \"faixa_desconto\": financial_sample['Discount_Band']\n",
    "})"
   ]
  },
  {
   "cell_type": "code",
   "execution_count": 33,
   "id": "c2178e54",
   "metadata": {},
   "outputs": [
    {
     "data": {
      "text/plain": [
       "faixa_desconto    0\n",
       "dtype: int64"
      ]
     },
     "execution_count": 33,
     "metadata": {},
     "output_type": "execute_result"
    }
   ],
   "source": [
    "### Verificação de dados nulos\n",
    "dim_desconto.isna().sum()"
   ]
  },
  {
   "cell_type": "code",
   "execution_count": 34,
   "id": "29f4885b",
   "metadata": {},
   "outputs": [
    {
     "data": {
      "text/plain": [
       "696"
      ]
     },
     "execution_count": 34,
     "metadata": {},
     "output_type": "execute_result"
    }
   ],
   "source": [
    "### Verificação de dados duplicados \n",
    "dim_desconto.duplicated().sum()"
   ]
  },
  {
   "cell_type": "code",
   "execution_count": 35,
   "id": "52cbae99",
   "metadata": {},
   "outputs": [],
   "source": [
    "### Removendo dados duplicados \n",
    "dim_desconto = dim_desconto.drop_duplicates()\n",
    "dim_desconto_count = dim_desconto.count()[0]"
   ]
  },
  {
   "cell_type": "code",
   "execution_count": 36,
   "id": "a68817b6",
   "metadata": {},
   "outputs": [
    {
     "data": {
      "text/html": [
       "<div>\n",
       "<style scoped>\n",
       "    .dataframe tbody tr th:only-of-type {\n",
       "        vertical-align: middle;\n",
       "    }\n",
       "\n",
       "    .dataframe tbody tr th {\n",
       "        vertical-align: top;\n",
       "    }\n",
       "\n",
       "    .dataframe thead th {\n",
       "        text-align: right;\n",
       "    }\n",
       "</style>\n",
       "<table border=\"1\" class=\"dataframe\">\n",
       "  <thead>\n",
       "    <tr style=\"text-align: right;\">\n",
       "      <th></th>\n",
       "      <th>Total dos descontos</th>\n",
       "    </tr>\n",
       "  </thead>\n",
       "  <tbody>\n",
       "    <tr>\n",
       "      <th>0</th>\n",
       "      <td>4</td>\n",
       "    </tr>\n",
       "  </tbody>\n",
       "</table>\n",
       "</div>"
      ],
      "text/plain": [
       "   Total dos descontos\n",
       "0                    4"
      ]
     },
     "execution_count": 36,
     "metadata": {},
     "output_type": "execute_result"
    }
   ],
   "source": [
    "pd.DataFrame({\"Total dos descontos\" : [dim_desconto_count]})"
   ]
  },
  {
   "cell_type": "code",
   "execution_count": 37,
   "id": "7500c4cf",
   "metadata": {},
   "outputs": [
    {
     "data": {
      "text/html": [
       "<div>\n",
       "<style scoped>\n",
       "    .dataframe tbody tr th:only-of-type {\n",
       "        vertical-align: middle;\n",
       "    }\n",
       "\n",
       "    .dataframe tbody tr th {\n",
       "        vertical-align: top;\n",
       "    }\n",
       "\n",
       "    .dataframe thead th {\n",
       "        text-align: right;\n",
       "    }\n",
       "</style>\n",
       "<table border=\"1\" class=\"dataframe\">\n",
       "  <thead>\n",
       "    <tr style=\"text-align: right;\">\n",
       "      <th></th>\n",
       "      <th>faixa_desconto</th>\n",
       "    </tr>\n",
       "  </thead>\n",
       "  <tbody>\n",
       "    <tr>\n",
       "      <th>0</th>\n",
       "      <td>None</td>\n",
       "    </tr>\n",
       "    <tr>\n",
       "      <th>53</th>\n",
       "      <td>Low</td>\n",
       "    </tr>\n",
       "    <tr>\n",
       "      <th>213</th>\n",
       "      <td>Medium</td>\n",
       "    </tr>\n",
       "    <tr>\n",
       "      <th>455</th>\n",
       "      <td>High</td>\n",
       "    </tr>\n",
       "  </tbody>\n",
       "</table>\n",
       "</div>"
      ],
      "text/plain": [
       "    faixa_desconto\n",
       "0             None\n",
       "53             Low\n",
       "213         Medium\n",
       "455           High"
      ]
     },
     "execution_count": 37,
     "metadata": {},
     "output_type": "execute_result"
    }
   ],
   "source": [
    "dim_desconto"
   ]
  },
  {
   "cell_type": "markdown",
   "id": "6785a0e2",
   "metadata": {},
   "source": [
    "### Fatos Vendas "
   ]
  },
  {
   "cell_type": "code",
   "execution_count": 38,
   "id": "04ca2e47",
   "metadata": {},
   "outputs": [],
   "source": [
    "fatos_vendas = pd.DataFrame({\n",
    "    \n",
    "    \"unidades_vendidas\": financial_sample['Units_Sold'], \n",
    "    \"vendas_brutas\": financial_sample['Gross_Sales'], \n",
    "    \"descontos\": financial_sample['Discounts'], \n",
    "    \"vendas\": financial_sample['Sales'], \n",
    "    \"cogs\": financial_sample['COGS'], \n",
    "    \"lucro\": financial_sample['Profit'], \n",
    "    \"data\": financial_sample['Date']\n",
    "})"
   ]
  },
  {
   "cell_type": "code",
   "execution_count": 39,
   "id": "80e8860a",
   "metadata": {},
   "outputs": [
    {
     "data": {
      "text/plain": [
       "unidades_vendidas    0\n",
       "vendas_brutas        0\n",
       "descontos            0\n",
       "vendas               0\n",
       "cogs                 0\n",
       "lucro                0\n",
       "data                 0\n",
       "dtype: int64"
      ]
     },
     "execution_count": 39,
     "metadata": {},
     "output_type": "execute_result"
    }
   ],
   "source": [
    "### Verificação de dados nulos\n",
    "fatos_vendas.isna().sum()"
   ]
  },
  {
   "cell_type": "code",
   "execution_count": 40,
   "id": "c6ce44b6",
   "metadata": {},
   "outputs": [
    {
     "data": {
      "text/plain": [
       "140"
      ]
     },
     "execution_count": 40,
     "metadata": {},
     "output_type": "execute_result"
    }
   ],
   "source": [
    "### Verificação de dados duplicados \n",
    "fatos_vendas.duplicated().sum()"
   ]
  },
  {
   "cell_type": "code",
   "execution_count": 41,
   "id": "e08ccf27",
   "metadata": {},
   "outputs": [],
   "source": [
    "### Removendo dados duplicados \n",
    "fatos_vendas = fatos_vendas.drop_duplicates()\n",
    "fatos_vendas_count = fatos_vendas.count()[0]"
   ]
  },
  {
   "cell_type": "code",
   "execution_count": 42,
   "id": "1b11e67e",
   "metadata": {},
   "outputs": [
    {
     "data": {
      "text/html": [
       "<div>\n",
       "<style scoped>\n",
       "    .dataframe tbody tr th:only-of-type {\n",
       "        vertical-align: middle;\n",
       "    }\n",
       "\n",
       "    .dataframe tbody tr th {\n",
       "        vertical-align: top;\n",
       "    }\n",
       "\n",
       "    .dataframe thead th {\n",
       "        text-align: right;\n",
       "    }\n",
       "</style>\n",
       "<table border=\"1\" class=\"dataframe\">\n",
       "  <thead>\n",
       "    <tr style=\"text-align: right;\">\n",
       "      <th></th>\n",
       "      <th>Total dos Fatos de Vendas</th>\n",
       "    </tr>\n",
       "  </thead>\n",
       "  <tbody>\n",
       "    <tr>\n",
       "      <th>0</th>\n",
       "      <td>560</td>\n",
       "    </tr>\n",
       "  </tbody>\n",
       "</table>\n",
       "</div>"
      ],
      "text/plain": [
       "   Total dos Fatos de Vendas\n",
       "0                        560"
      ]
     },
     "execution_count": 42,
     "metadata": {},
     "output_type": "execute_result"
    }
   ],
   "source": [
    "pd.DataFrame({\"Total dos Fatos de Vendas\" : [fatos_vendas_count]})"
   ]
  },
  {
   "cell_type": "code",
   "execution_count": 43,
   "id": "2fdb3243",
   "metadata": {},
   "outputs": [],
   "source": [
    "# Converter a coluna 'data' para datetime\n",
    "fatos_vendas['data'] = pd.to_datetime(fatos_vendas['data'], format='%d/%m/%Y')"
   ]
  },
  {
   "cell_type": "code",
   "execution_count": 44,
   "id": "206220e8",
   "metadata": {},
   "outputs": [],
   "source": [
    "# Converter para o formato 'yyyy-m-d' sem zeros à esquerda\n",
    "fatos_vendas['data'] = fatos_vendas['data'].dt.strftime('%Y-%-m-%-d')"
   ]
  },
  {
   "cell_type": "code",
   "execution_count": 45,
   "id": "26fa94b2",
   "metadata": {},
   "outputs": [
    {
     "data": {
      "text/html": [
       "<div>\n",
       "<style scoped>\n",
       "    .dataframe tbody tr th:only-of-type {\n",
       "        vertical-align: middle;\n",
       "    }\n",
       "\n",
       "    .dataframe tbody tr th {\n",
       "        vertical-align: top;\n",
       "    }\n",
       "\n",
       "    .dataframe thead th {\n",
       "        text-align: right;\n",
       "    }\n",
       "</style>\n",
       "<table border=\"1\" class=\"dataframe\">\n",
       "  <thead>\n",
       "    <tr style=\"text-align: right;\">\n",
       "      <th></th>\n",
       "      <th>unidades_vendidas</th>\n",
       "      <th>vendas_brutas</th>\n",
       "      <th>descontos</th>\n",
       "      <th>vendas</th>\n",
       "      <th>cogs</th>\n",
       "      <th>lucro</th>\n",
       "      <th>data</th>\n",
       "    </tr>\n",
       "  </thead>\n",
       "  <tbody>\n",
       "    <tr>\n",
       "      <th>0</th>\n",
       "      <td>1618.5</td>\n",
       "      <td>32370.0</td>\n",
       "      <td>0.00</td>\n",
       "      <td>32370.00</td>\n",
       "      <td>16185.0</td>\n",
       "      <td>16185.00</td>\n",
       "      <td>2014-1-1</td>\n",
       "    </tr>\n",
       "    <tr>\n",
       "      <th>1</th>\n",
       "      <td>1321.0</td>\n",
       "      <td>26420.0</td>\n",
       "      <td>0.00</td>\n",
       "      <td>26420.00</td>\n",
       "      <td>13210.0</td>\n",
       "      <td>13210.00</td>\n",
       "      <td>2014-1-1</td>\n",
       "    </tr>\n",
       "    <tr>\n",
       "      <th>2</th>\n",
       "      <td>2178.0</td>\n",
       "      <td>32670.0</td>\n",
       "      <td>0.00</td>\n",
       "      <td>32670.00</td>\n",
       "      <td>21780.0</td>\n",
       "      <td>10890.00</td>\n",
       "      <td>2014-1-6</td>\n",
       "    </tr>\n",
       "    <tr>\n",
       "      <th>3</th>\n",
       "      <td>888.0</td>\n",
       "      <td>13320.0</td>\n",
       "      <td>0.00</td>\n",
       "      <td>13320.00</td>\n",
       "      <td>8880.0</td>\n",
       "      <td>4440.00</td>\n",
       "      <td>2014-1-6</td>\n",
       "    </tr>\n",
       "    <tr>\n",
       "      <th>4</th>\n",
       "      <td>2470.0</td>\n",
       "      <td>37050.0</td>\n",
       "      <td>0.00</td>\n",
       "      <td>37050.00</td>\n",
       "      <td>24700.0</td>\n",
       "      <td>12350.00</td>\n",
       "      <td>2014-1-6</td>\n",
       "    </tr>\n",
       "    <tr>\n",
       "      <th>...</th>\n",
       "      <td>...</td>\n",
       "      <td>...</td>\n",
       "      <td>...</td>\n",
       "      <td>...</td>\n",
       "      <td>...</td>\n",
       "      <td>...</td>\n",
       "      <td>...</td>\n",
       "    </tr>\n",
       "    <tr>\n",
       "      <th>693</th>\n",
       "      <td>552.0</td>\n",
       "      <td>69000.0</td>\n",
       "      <td>10350.00</td>\n",
       "      <td>58650.00</td>\n",
       "      <td>66240.0</td>\n",
       "      <td>-7590.00</td>\n",
       "      <td>2014-1-11</td>\n",
       "    </tr>\n",
       "    <tr>\n",
       "      <th>695</th>\n",
       "      <td>2475.0</td>\n",
       "      <td>742500.0</td>\n",
       "      <td>111375.00</td>\n",
       "      <td>631125.00</td>\n",
       "      <td>618750.0</td>\n",
       "      <td>12375.00</td>\n",
       "      <td>2014-1-3</td>\n",
       "    </tr>\n",
       "    <tr>\n",
       "      <th>697</th>\n",
       "      <td>1368.0</td>\n",
       "      <td>9576.0</td>\n",
       "      <td>1436.40</td>\n",
       "      <td>8139.60</td>\n",
       "      <td>6840.0</td>\n",
       "      <td>1299.60</td>\n",
       "      <td>2014-1-2</td>\n",
       "    </tr>\n",
       "    <tr>\n",
       "      <th>698</th>\n",
       "      <td>723.0</td>\n",
       "      <td>5061.0</td>\n",
       "      <td>759.15</td>\n",
       "      <td>4301.85</td>\n",
       "      <td>3615.0</td>\n",
       "      <td>686.85</td>\n",
       "      <td>2014-1-4</td>\n",
       "    </tr>\n",
       "    <tr>\n",
       "      <th>699</th>\n",
       "      <td>1806.0</td>\n",
       "      <td>21672.0</td>\n",
       "      <td>3250.80</td>\n",
       "      <td>18421.20</td>\n",
       "      <td>5418.0</td>\n",
       "      <td>13003.20</td>\n",
       "      <td>2014-1-5</td>\n",
       "    </tr>\n",
       "  </tbody>\n",
       "</table>\n",
       "<p>560 rows × 7 columns</p>\n",
       "</div>"
      ],
      "text/plain": [
       "     unidades_vendidas  vendas_brutas  descontos     vendas      cogs  \\\n",
       "0               1618.5        32370.0       0.00   32370.00   16185.0   \n",
       "1               1321.0        26420.0       0.00   26420.00   13210.0   \n",
       "2               2178.0        32670.0       0.00   32670.00   21780.0   \n",
       "3                888.0        13320.0       0.00   13320.00    8880.0   \n",
       "4               2470.0        37050.0       0.00   37050.00   24700.0   \n",
       "..                 ...            ...        ...        ...       ...   \n",
       "693              552.0        69000.0   10350.00   58650.00   66240.0   \n",
       "695             2475.0       742500.0  111375.00  631125.00  618750.0   \n",
       "697             1368.0         9576.0    1436.40    8139.60    6840.0   \n",
       "698              723.0         5061.0     759.15    4301.85    3615.0   \n",
       "699             1806.0        21672.0    3250.80   18421.20    5418.0   \n",
       "\n",
       "        lucro       data  \n",
       "0    16185.00   2014-1-1  \n",
       "1    13210.00   2014-1-1  \n",
       "2    10890.00   2014-1-6  \n",
       "3     4440.00   2014-1-6  \n",
       "4    12350.00   2014-1-6  \n",
       "..        ...        ...  \n",
       "693  -7590.00  2014-1-11  \n",
       "695  12375.00   2014-1-3  \n",
       "697   1299.60   2014-1-2  \n",
       "698    686.85   2014-1-4  \n",
       "699  13003.20   2014-1-5  \n",
       "\n",
       "[560 rows x 7 columns]"
      ]
     },
     "execution_count": 45,
     "metadata": {},
     "output_type": "execute_result"
    }
   ],
   "source": [
    "fatos_vendas"
   ]
  },
  {
   "cell_type": "markdown",
   "id": "40638c9b",
   "metadata": {},
   "source": [
    "## Conexão para o banco de dados "
   ]
  },
  {
   "cell_type": "code",
   "execution_count": 46,
   "id": "6ccc7c20",
   "metadata": {},
   "outputs": [],
   "source": [
    "dbconn = sqlite3.connect('dio_financeiro.db')"
   ]
  },
  {
   "cell_type": "code",
   "execution_count": 47,
   "id": "cf00f99c",
   "metadata": {},
   "outputs": [
    {
     "name": "stdout",
     "output_type": "stream",
     "text": [
      "<sqlite3.Connection object at 0x7f3e674de5d0>\n"
     ]
    }
   ],
   "source": [
    "print(dbconn)"
   ]
  },
  {
   "cell_type": "markdown",
   "id": "1ad28751",
   "metadata": {},
   "source": [
    "### Criação da Tabela de Banco de dados "
   ]
  },
  {
   "cell_type": "markdown",
   "id": "fc19c401",
   "metadata": {},
   "source": [
    "#### Dim_Tempo "
   ]
  },
  {
   "cell_type": "code",
   "execution_count": 48,
   "id": "b9bed9a5",
   "metadata": {},
   "outputs": [
    {
     "data": {
      "text/plain": [
       "16"
      ]
     },
     "execution_count": 48,
     "metadata": {},
     "output_type": "execute_result"
    }
   ],
   "source": [
    "dbconn.execute(\n",
    "    \n",
    "    '''\n",
    "    CREATE TABLE dim_tempo(\n",
    "        \n",
    "        id INTEGER PRIMARY KEY,\n",
    "        data date\n",
    "    )\n",
    "    '''\n",
    ")\n",
    "\n",
    "dim_tempo.to_sql(\"dim_tempo\", dbconn, if_exists='append', index=False)"
   ]
  },
  {
   "cell_type": "code",
   "execution_count": 49,
   "id": "9dd84d61",
   "metadata": {},
   "outputs": [
    {
     "data": {
      "text/html": [
       "<div>\n",
       "<style scoped>\n",
       "    .dataframe tbody tr th:only-of-type {\n",
       "        vertical-align: middle;\n",
       "    }\n",
       "\n",
       "    .dataframe tbody tr th {\n",
       "        vertical-align: top;\n",
       "    }\n",
       "\n",
       "    .dataframe thead th {\n",
       "        text-align: right;\n",
       "    }\n",
       "</style>\n",
       "<table border=\"1\" class=\"dataframe\">\n",
       "  <thead>\n",
       "    <tr style=\"text-align: right;\">\n",
       "      <th></th>\n",
       "      <th>id</th>\n",
       "      <th>data</th>\n",
       "    </tr>\n",
       "  </thead>\n",
       "  <tbody>\n",
       "    <tr>\n",
       "      <th>0</th>\n",
       "      <td>1</td>\n",
       "      <td>2014-1-1</td>\n",
       "    </tr>\n",
       "    <tr>\n",
       "      <th>1</th>\n",
       "      <td>2</td>\n",
       "      <td>2014-1-6</td>\n",
       "    </tr>\n",
       "    <tr>\n",
       "      <th>2</th>\n",
       "      <td>3</td>\n",
       "      <td>2014-1-12</td>\n",
       "    </tr>\n",
       "    <tr>\n",
       "      <th>3</th>\n",
       "      <td>4</td>\n",
       "      <td>2014-1-3</td>\n",
       "    </tr>\n",
       "    <tr>\n",
       "      <th>4</th>\n",
       "      <td>5</td>\n",
       "      <td>2014-1-7</td>\n",
       "    </tr>\n",
       "    <tr>\n",
       "      <th>5</th>\n",
       "      <td>6</td>\n",
       "      <td>2014-1-8</td>\n",
       "    </tr>\n",
       "    <tr>\n",
       "      <th>6</th>\n",
       "      <td>7</td>\n",
       "      <td>2014-1-9</td>\n",
       "    </tr>\n",
       "    <tr>\n",
       "      <th>7</th>\n",
       "      <td>8</td>\n",
       "      <td>2013-1-10</td>\n",
       "    </tr>\n",
       "    <tr>\n",
       "      <th>8</th>\n",
       "      <td>9</td>\n",
       "      <td>2014-1-2</td>\n",
       "    </tr>\n",
       "    <tr>\n",
       "      <th>9</th>\n",
       "      <td>10</td>\n",
       "      <td>2013-1-9</td>\n",
       "    </tr>\n",
       "    <tr>\n",
       "      <th>10</th>\n",
       "      <td>11</td>\n",
       "      <td>2014-1-10</td>\n",
       "    </tr>\n",
       "    <tr>\n",
       "      <th>11</th>\n",
       "      <td>12</td>\n",
       "      <td>2013-1-11</td>\n",
       "    </tr>\n",
       "    <tr>\n",
       "      <th>12</th>\n",
       "      <td>13</td>\n",
       "      <td>2013-1-12</td>\n",
       "    </tr>\n",
       "    <tr>\n",
       "      <th>13</th>\n",
       "      <td>14</td>\n",
       "      <td>2014-1-4</td>\n",
       "    </tr>\n",
       "    <tr>\n",
       "      <th>14</th>\n",
       "      <td>15</td>\n",
       "      <td>2014-1-5</td>\n",
       "    </tr>\n",
       "    <tr>\n",
       "      <th>15</th>\n",
       "      <td>16</td>\n",
       "      <td>2014-1-11</td>\n",
       "    </tr>\n",
       "  </tbody>\n",
       "</table>\n",
       "</div>"
      ],
      "text/plain": [
       "    id       data\n",
       "0    1   2014-1-1\n",
       "1    2   2014-1-6\n",
       "2    3  2014-1-12\n",
       "3    4   2014-1-3\n",
       "4    5   2014-1-7\n",
       "5    6   2014-1-8\n",
       "6    7   2014-1-9\n",
       "7    8  2013-1-10\n",
       "8    9   2014-1-2\n",
       "9   10   2013-1-9\n",
       "10  11  2014-1-10\n",
       "11  12  2013-1-11\n",
       "12  13  2013-1-12\n",
       "13  14   2014-1-4\n",
       "14  15   2014-1-5\n",
       "15  16  2014-1-11"
      ]
     },
     "execution_count": 49,
     "metadata": {},
     "output_type": "execute_result"
    }
   ],
   "source": [
    "pd.read_sql_query(\"SELECT * FROM dim_tempo\", con=dbconn)"
   ]
  },
  {
   "cell_type": "markdown",
   "id": "ef721095",
   "metadata": {},
   "source": [
    "#### Dim_Produto "
   ]
  },
  {
   "cell_type": "code",
   "execution_count": 50,
   "id": "a9dcfd5c",
   "metadata": {},
   "outputs": [
    {
     "data": {
      "text/plain": [
       "695"
      ]
     },
     "execution_count": 50,
     "metadata": {},
     "output_type": "execute_result"
    }
   ],
   "source": [
    "dbconn.execute(\n",
    "    \n",
    "    '''\n",
    "    CREATE TABLE dim_produto(\n",
    "    \n",
    "        id INTEGER PRIMARY KEY,\n",
    "        \"produto\" TEXT,\n",
    "        preco_de_fabricacao DOUBLE,\n",
    "        preco_de_venda DOUBLE\n",
    "    )\n",
    "    '''\n",
    ")\n",
    "\n",
    "dim_produto.to_sql(\"dim_produto\", dbconn, if_exists='append', index=False)"
   ]
  },
  {
   "cell_type": "code",
   "execution_count": 51,
   "id": "decbe1b4",
   "metadata": {},
   "outputs": [
    {
     "data": {
      "text/html": [
       "<div>\n",
       "<style scoped>\n",
       "    .dataframe tbody tr th:only-of-type {\n",
       "        vertical-align: middle;\n",
       "    }\n",
       "\n",
       "    .dataframe tbody tr th {\n",
       "        vertical-align: top;\n",
       "    }\n",
       "\n",
       "    .dataframe thead th {\n",
       "        text-align: right;\n",
       "    }\n",
       "</style>\n",
       "<table border=\"1\" class=\"dataframe\">\n",
       "  <thead>\n",
       "    <tr style=\"text-align: right;\">\n",
       "      <th></th>\n",
       "      <th>id</th>\n",
       "      <th>produto</th>\n",
       "      <th>preco_de_fabricacao</th>\n",
       "      <th>preco_de_venda</th>\n",
       "    </tr>\n",
       "  </thead>\n",
       "  <tbody>\n",
       "    <tr>\n",
       "      <th>0</th>\n",
       "      <td>1</td>\n",
       "      <td>Carretera</td>\n",
       "      <td>1618.5</td>\n",
       "      <td>20.0</td>\n",
       "    </tr>\n",
       "    <tr>\n",
       "      <th>1</th>\n",
       "      <td>2</td>\n",
       "      <td>Carretera</td>\n",
       "      <td>1321.0</td>\n",
       "      <td>20.0</td>\n",
       "    </tr>\n",
       "    <tr>\n",
       "      <th>2</th>\n",
       "      <td>3</td>\n",
       "      <td>Carretera</td>\n",
       "      <td>2178.0</td>\n",
       "      <td>15.0</td>\n",
       "    </tr>\n",
       "    <tr>\n",
       "      <th>3</th>\n",
       "      <td>4</td>\n",
       "      <td>Carretera</td>\n",
       "      <td>888.0</td>\n",
       "      <td>15.0</td>\n",
       "    </tr>\n",
       "    <tr>\n",
       "      <th>4</th>\n",
       "      <td>5</td>\n",
       "      <td>Carretera</td>\n",
       "      <td>2470.0</td>\n",
       "      <td>15.0</td>\n",
       "    </tr>\n",
       "    <tr>\n",
       "      <th>...</th>\n",
       "      <td>...</td>\n",
       "      <td>...</td>\n",
       "      <td>...</td>\n",
       "      <td>...</td>\n",
       "    </tr>\n",
       "    <tr>\n",
       "      <th>690</th>\n",
       "      <td>691</td>\n",
       "      <td>Amarilla</td>\n",
       "      <td>2475.0</td>\n",
       "      <td>300.0</td>\n",
       "    </tr>\n",
       "    <tr>\n",
       "      <th>691</th>\n",
       "      <td>692</td>\n",
       "      <td>Amarilla</td>\n",
       "      <td>546.0</td>\n",
       "      <td>300.0</td>\n",
       "    </tr>\n",
       "    <tr>\n",
       "      <th>692</th>\n",
       "      <td>693</td>\n",
       "      <td>Montana</td>\n",
       "      <td>1368.0</td>\n",
       "      <td>7.0</td>\n",
       "    </tr>\n",
       "    <tr>\n",
       "      <th>693</th>\n",
       "      <td>694</td>\n",
       "      <td>Paseo</td>\n",
       "      <td>723.0</td>\n",
       "      <td>7.0</td>\n",
       "    </tr>\n",
       "    <tr>\n",
       "      <th>694</th>\n",
       "      <td>695</td>\n",
       "      <td>VTT</td>\n",
       "      <td>1806.0</td>\n",
       "      <td>12.0</td>\n",
       "    </tr>\n",
       "  </tbody>\n",
       "</table>\n",
       "<p>695 rows × 4 columns</p>\n",
       "</div>"
      ],
      "text/plain": [
       "      id    produto  preco_de_fabricacao  preco_de_venda\n",
       "0      1  Carretera               1618.5            20.0\n",
       "1      2  Carretera               1321.0            20.0\n",
       "2      3  Carretera               2178.0            15.0\n",
       "3      4  Carretera                888.0            15.0\n",
       "4      5  Carretera               2470.0            15.0\n",
       "..   ...        ...                  ...             ...\n",
       "690  691   Amarilla               2475.0           300.0\n",
       "691  692   Amarilla                546.0           300.0\n",
       "692  693    Montana               1368.0             7.0\n",
       "693  694      Paseo                723.0             7.0\n",
       "694  695        VTT               1806.0            12.0\n",
       "\n",
       "[695 rows x 4 columns]"
      ]
     },
     "execution_count": 51,
     "metadata": {},
     "output_type": "execute_result"
    }
   ],
   "source": [
    "pd.read_sql_query(\"SELECT * FROM dim_produto\", con=dbconn)"
   ]
  },
  {
   "cell_type": "markdown",
   "id": "be42e122",
   "metadata": {},
   "source": [
    "#### Dim_Pais"
   ]
  },
  {
   "cell_type": "code",
   "execution_count": 52,
   "id": "bcffcbb8",
   "metadata": {},
   "outputs": [
    {
     "data": {
      "text/plain": [
       "5"
      ]
     },
     "execution_count": 52,
     "metadata": {},
     "output_type": "execute_result"
    }
   ],
   "source": [
    "dbconn.execute(\n",
    "    \n",
    "    '''\n",
    "    CREATE TABLE dim_pais(\n",
    "    \n",
    "        id INTEGER PRIMARY KEY,\n",
    "        \"pais\" TEXT\n",
    "        \n",
    "    )\n",
    "    '''\n",
    ")\n",
    "\n",
    "dim_pais.to_sql(\"dim_pais\", dbconn, if_exists='append', index=False)"
   ]
  },
  {
   "cell_type": "code",
   "execution_count": 53,
   "id": "1c1d5e8e",
   "metadata": {},
   "outputs": [
    {
     "data": {
      "text/html": [
       "<div>\n",
       "<style scoped>\n",
       "    .dataframe tbody tr th:only-of-type {\n",
       "        vertical-align: middle;\n",
       "    }\n",
       "\n",
       "    .dataframe tbody tr th {\n",
       "        vertical-align: top;\n",
       "    }\n",
       "\n",
       "    .dataframe thead th {\n",
       "        text-align: right;\n",
       "    }\n",
       "</style>\n",
       "<table border=\"1\" class=\"dataframe\">\n",
       "  <thead>\n",
       "    <tr style=\"text-align: right;\">\n",
       "      <th></th>\n",
       "      <th>id</th>\n",
       "      <th>pais</th>\n",
       "    </tr>\n",
       "  </thead>\n",
       "  <tbody>\n",
       "    <tr>\n",
       "      <th>0</th>\n",
       "      <td>1</td>\n",
       "      <td>Canada</td>\n",
       "    </tr>\n",
       "    <tr>\n",
       "      <th>1</th>\n",
       "      <td>2</td>\n",
       "      <td>Germany</td>\n",
       "    </tr>\n",
       "    <tr>\n",
       "      <th>2</th>\n",
       "      <td>3</td>\n",
       "      <td>France</td>\n",
       "    </tr>\n",
       "    <tr>\n",
       "      <th>3</th>\n",
       "      <td>4</td>\n",
       "      <td>Mexico</td>\n",
       "    </tr>\n",
       "    <tr>\n",
       "      <th>4</th>\n",
       "      <td>5</td>\n",
       "      <td>United States of America</td>\n",
       "    </tr>\n",
       "  </tbody>\n",
       "</table>\n",
       "</div>"
      ],
      "text/plain": [
       "   id                      pais\n",
       "0   1                    Canada\n",
       "1   2                   Germany\n",
       "2   3                    France\n",
       "3   4                    Mexico\n",
       "4   5  United States of America"
      ]
     },
     "execution_count": 53,
     "metadata": {},
     "output_type": "execute_result"
    }
   ],
   "source": [
    "pd.read_sql_query(\"SELECT * FROM dim_pais\", con=dbconn)"
   ]
  },
  {
   "cell_type": "markdown",
   "id": "ed74fc86",
   "metadata": {},
   "source": [
    "#### Dim_Segmento "
   ]
  },
  {
   "cell_type": "code",
   "execution_count": 54,
   "id": "915fc7b9",
   "metadata": {},
   "outputs": [
    {
     "data": {
      "text/plain": [
       "5"
      ]
     },
     "execution_count": 54,
     "metadata": {},
     "output_type": "execute_result"
    }
   ],
   "source": [
    "dbconn.execute(\n",
    "    \n",
    "    '''\n",
    "    CREATE TABLE dim_segmento(\n",
    "    \n",
    "        id INTEGER PRIMARY KEY,\n",
    "        \"segmento\" TEXT\n",
    "        \n",
    "    )\n",
    "    '''\n",
    ")\n",
    "\n",
    "dim_segmento.to_sql(\"dim_segmento\", dbconn, if_exists='append', index=False)"
   ]
  },
  {
   "cell_type": "code",
   "execution_count": 55,
   "id": "387626fc",
   "metadata": {},
   "outputs": [
    {
     "data": {
      "text/html": [
       "<div>\n",
       "<style scoped>\n",
       "    .dataframe tbody tr th:only-of-type {\n",
       "        vertical-align: middle;\n",
       "    }\n",
       "\n",
       "    .dataframe tbody tr th {\n",
       "        vertical-align: top;\n",
       "    }\n",
       "\n",
       "    .dataframe thead th {\n",
       "        text-align: right;\n",
       "    }\n",
       "</style>\n",
       "<table border=\"1\" class=\"dataframe\">\n",
       "  <thead>\n",
       "    <tr style=\"text-align: right;\">\n",
       "      <th></th>\n",
       "      <th>id</th>\n",
       "      <th>segmento</th>\n",
       "    </tr>\n",
       "  </thead>\n",
       "  <tbody>\n",
       "    <tr>\n",
       "      <th>0</th>\n",
       "      <td>1</td>\n",
       "      <td>Government</td>\n",
       "    </tr>\n",
       "    <tr>\n",
       "      <th>1</th>\n",
       "      <td>2</td>\n",
       "      <td>Midmarket</td>\n",
       "    </tr>\n",
       "    <tr>\n",
       "      <th>2</th>\n",
       "      <td>3</td>\n",
       "      <td>Channel Partners</td>\n",
       "    </tr>\n",
       "    <tr>\n",
       "      <th>3</th>\n",
       "      <td>4</td>\n",
       "      <td>Enterprise</td>\n",
       "    </tr>\n",
       "    <tr>\n",
       "      <th>4</th>\n",
       "      <td>5</td>\n",
       "      <td>Small Business</td>\n",
       "    </tr>\n",
       "  </tbody>\n",
       "</table>\n",
       "</div>"
      ],
      "text/plain": [
       "   id          segmento\n",
       "0   1        Government\n",
       "1   2         Midmarket\n",
       "2   3  Channel Partners\n",
       "3   4        Enterprise\n",
       "4   5    Small Business"
      ]
     },
     "execution_count": 55,
     "metadata": {},
     "output_type": "execute_result"
    }
   ],
   "source": [
    "pd.read_sql_query(\"SELECT * FROM dim_segmento\", con=dbconn)"
   ]
  },
  {
   "cell_type": "markdown",
   "id": "5c9b93f2",
   "metadata": {},
   "source": [
    "#### Dim_Desconto "
   ]
  },
  {
   "cell_type": "code",
   "execution_count": 56,
   "id": "6bd463ff",
   "metadata": {},
   "outputs": [
    {
     "data": {
      "text/plain": [
       "4"
      ]
     },
     "execution_count": 56,
     "metadata": {},
     "output_type": "execute_result"
    }
   ],
   "source": [
    "dbconn.execute(\n",
    "    \n",
    "    '''\n",
    "    CREATE TABLE dim_desconto(\n",
    "    \n",
    "        id INTEGER PRIMARY KEY,\n",
    "        \"faixa_desconto\" TEXT\n",
    "        \n",
    "    )\n",
    "    '''\n",
    ")\n",
    "\n",
    "dim_desconto.to_sql(\"dim_desconto\", dbconn, if_exists='append', index=False)"
   ]
  },
  {
   "cell_type": "code",
   "execution_count": 57,
   "id": "562185c1",
   "metadata": {},
   "outputs": [
    {
     "data": {
      "text/html": [
       "<div>\n",
       "<style scoped>\n",
       "    .dataframe tbody tr th:only-of-type {\n",
       "        vertical-align: middle;\n",
       "    }\n",
       "\n",
       "    .dataframe tbody tr th {\n",
       "        vertical-align: top;\n",
       "    }\n",
       "\n",
       "    .dataframe thead th {\n",
       "        text-align: right;\n",
       "    }\n",
       "</style>\n",
       "<table border=\"1\" class=\"dataframe\">\n",
       "  <thead>\n",
       "    <tr style=\"text-align: right;\">\n",
       "      <th></th>\n",
       "      <th>id</th>\n",
       "      <th>faixa_desconto</th>\n",
       "    </tr>\n",
       "  </thead>\n",
       "  <tbody>\n",
       "    <tr>\n",
       "      <th>0</th>\n",
       "      <td>1</td>\n",
       "      <td>None</td>\n",
       "    </tr>\n",
       "    <tr>\n",
       "      <th>1</th>\n",
       "      <td>2</td>\n",
       "      <td>Low</td>\n",
       "    </tr>\n",
       "    <tr>\n",
       "      <th>2</th>\n",
       "      <td>3</td>\n",
       "      <td>Medium</td>\n",
       "    </tr>\n",
       "    <tr>\n",
       "      <th>3</th>\n",
       "      <td>4</td>\n",
       "      <td>High</td>\n",
       "    </tr>\n",
       "  </tbody>\n",
       "</table>\n",
       "</div>"
      ],
      "text/plain": [
       "   id faixa_desconto\n",
       "0   1           None\n",
       "1   2            Low\n",
       "2   3         Medium\n",
       "3   4           High"
      ]
     },
     "execution_count": 57,
     "metadata": {},
     "output_type": "execute_result"
    }
   ],
   "source": [
    "pd.read_sql_query(\"SELECT * FROM dim_desconto\", con=dbconn)"
   ]
  },
  {
   "cell_type": "markdown",
   "id": "869f9cfd",
   "metadata": {},
   "source": [
    "#### Fatos_Vendas"
   ]
  },
  {
   "cell_type": "code",
   "execution_count": 58,
   "id": "b64736d4",
   "metadata": {},
   "outputs": [
    {
     "data": {
      "text/plain": [
       "560"
      ]
     },
     "execution_count": 58,
     "metadata": {},
     "output_type": "execute_result"
    }
   ],
   "source": [
    "dbconn.execute(\n",
    "    \n",
    "    '''\n",
    "    CREATE TABLE fatos_vendas(\n",
    "    \n",
    "        id INTEGER PRIMARY KEY,\n",
    "        unidades_vendidas DOUBLE, \n",
    "        vendas_brutas DOUBLE,\n",
    "        descontos DOUBLE, \n",
    "        vendas DOUBLE, \n",
    "        cogs DOUBLE, \n",
    "        lucro DOUBLE, \n",
    "        data DATE\n",
    "        \n",
    "        \n",
    "    )\n",
    "    '''\n",
    ")\n",
    "\n",
    "fatos_vendas.to_sql(\"fatos_vendas\", dbconn, if_exists='append', index=False)"
   ]
  },
  {
   "cell_type": "code",
   "execution_count": 59,
   "id": "118652a4",
   "metadata": {},
   "outputs": [
    {
     "data": {
      "text/html": [
       "<div>\n",
       "<style scoped>\n",
       "    .dataframe tbody tr th:only-of-type {\n",
       "        vertical-align: middle;\n",
       "    }\n",
       "\n",
       "    .dataframe tbody tr th {\n",
       "        vertical-align: top;\n",
       "    }\n",
       "\n",
       "    .dataframe thead th {\n",
       "        text-align: right;\n",
       "    }\n",
       "</style>\n",
       "<table border=\"1\" class=\"dataframe\">\n",
       "  <thead>\n",
       "    <tr style=\"text-align: right;\">\n",
       "      <th></th>\n",
       "      <th>id</th>\n",
       "      <th>unidades_vendidas</th>\n",
       "      <th>vendas_brutas</th>\n",
       "      <th>descontos</th>\n",
       "      <th>vendas</th>\n",
       "      <th>cogs</th>\n",
       "      <th>lucro</th>\n",
       "      <th>data</th>\n",
       "    </tr>\n",
       "  </thead>\n",
       "  <tbody>\n",
       "    <tr>\n",
       "      <th>0</th>\n",
       "      <td>1</td>\n",
       "      <td>1618.5</td>\n",
       "      <td>32370.0</td>\n",
       "      <td>0.00</td>\n",
       "      <td>32370.00</td>\n",
       "      <td>16185.0</td>\n",
       "      <td>16185.00</td>\n",
       "      <td>2014-1-1</td>\n",
       "    </tr>\n",
       "    <tr>\n",
       "      <th>1</th>\n",
       "      <td>2</td>\n",
       "      <td>1321.0</td>\n",
       "      <td>26420.0</td>\n",
       "      <td>0.00</td>\n",
       "      <td>26420.00</td>\n",
       "      <td>13210.0</td>\n",
       "      <td>13210.00</td>\n",
       "      <td>2014-1-1</td>\n",
       "    </tr>\n",
       "    <tr>\n",
       "      <th>2</th>\n",
       "      <td>3</td>\n",
       "      <td>2178.0</td>\n",
       "      <td>32670.0</td>\n",
       "      <td>0.00</td>\n",
       "      <td>32670.00</td>\n",
       "      <td>21780.0</td>\n",
       "      <td>10890.00</td>\n",
       "      <td>2014-1-6</td>\n",
       "    </tr>\n",
       "    <tr>\n",
       "      <th>3</th>\n",
       "      <td>4</td>\n",
       "      <td>888.0</td>\n",
       "      <td>13320.0</td>\n",
       "      <td>0.00</td>\n",
       "      <td>13320.00</td>\n",
       "      <td>8880.0</td>\n",
       "      <td>4440.00</td>\n",
       "      <td>2014-1-6</td>\n",
       "    </tr>\n",
       "    <tr>\n",
       "      <th>4</th>\n",
       "      <td>5</td>\n",
       "      <td>2470.0</td>\n",
       "      <td>37050.0</td>\n",
       "      <td>0.00</td>\n",
       "      <td>37050.00</td>\n",
       "      <td>24700.0</td>\n",
       "      <td>12350.00</td>\n",
       "      <td>2014-1-6</td>\n",
       "    </tr>\n",
       "    <tr>\n",
       "      <th>...</th>\n",
       "      <td>...</td>\n",
       "      <td>...</td>\n",
       "      <td>...</td>\n",
       "      <td>...</td>\n",
       "      <td>...</td>\n",
       "      <td>...</td>\n",
       "      <td>...</td>\n",
       "      <td>...</td>\n",
       "    </tr>\n",
       "    <tr>\n",
       "      <th>555</th>\n",
       "      <td>556</td>\n",
       "      <td>552.0</td>\n",
       "      <td>69000.0</td>\n",
       "      <td>10350.00</td>\n",
       "      <td>58650.00</td>\n",
       "      <td>66240.0</td>\n",
       "      <td>-7590.00</td>\n",
       "      <td>2014-1-11</td>\n",
       "    </tr>\n",
       "    <tr>\n",
       "      <th>556</th>\n",
       "      <td>557</td>\n",
       "      <td>2475.0</td>\n",
       "      <td>742500.0</td>\n",
       "      <td>111375.00</td>\n",
       "      <td>631125.00</td>\n",
       "      <td>618750.0</td>\n",
       "      <td>12375.00</td>\n",
       "      <td>2014-1-3</td>\n",
       "    </tr>\n",
       "    <tr>\n",
       "      <th>557</th>\n",
       "      <td>558</td>\n",
       "      <td>1368.0</td>\n",
       "      <td>9576.0</td>\n",
       "      <td>1436.40</td>\n",
       "      <td>8139.60</td>\n",
       "      <td>6840.0</td>\n",
       "      <td>1299.60</td>\n",
       "      <td>2014-1-2</td>\n",
       "    </tr>\n",
       "    <tr>\n",
       "      <th>558</th>\n",
       "      <td>559</td>\n",
       "      <td>723.0</td>\n",
       "      <td>5061.0</td>\n",
       "      <td>759.15</td>\n",
       "      <td>4301.85</td>\n",
       "      <td>3615.0</td>\n",
       "      <td>686.85</td>\n",
       "      <td>2014-1-4</td>\n",
       "    </tr>\n",
       "    <tr>\n",
       "      <th>559</th>\n",
       "      <td>560</td>\n",
       "      <td>1806.0</td>\n",
       "      <td>21672.0</td>\n",
       "      <td>3250.80</td>\n",
       "      <td>18421.20</td>\n",
       "      <td>5418.0</td>\n",
       "      <td>13003.20</td>\n",
       "      <td>2014-1-5</td>\n",
       "    </tr>\n",
       "  </tbody>\n",
       "</table>\n",
       "<p>560 rows × 8 columns</p>\n",
       "</div>"
      ],
      "text/plain": [
       "      id  unidades_vendidas  vendas_brutas  descontos     vendas      cogs  \\\n",
       "0      1             1618.5        32370.0       0.00   32370.00   16185.0   \n",
       "1      2             1321.0        26420.0       0.00   26420.00   13210.0   \n",
       "2      3             2178.0        32670.0       0.00   32670.00   21780.0   \n",
       "3      4              888.0        13320.0       0.00   13320.00    8880.0   \n",
       "4      5             2470.0        37050.0       0.00   37050.00   24700.0   \n",
       "..   ...                ...            ...        ...        ...       ...   \n",
       "555  556              552.0        69000.0   10350.00   58650.00   66240.0   \n",
       "556  557             2475.0       742500.0  111375.00  631125.00  618750.0   \n",
       "557  558             1368.0         9576.0    1436.40    8139.60    6840.0   \n",
       "558  559              723.0         5061.0     759.15    4301.85    3615.0   \n",
       "559  560             1806.0        21672.0    3250.80   18421.20    5418.0   \n",
       "\n",
       "        lucro       data  \n",
       "0    16185.00   2014-1-1  \n",
       "1    13210.00   2014-1-1  \n",
       "2    10890.00   2014-1-6  \n",
       "3     4440.00   2014-1-6  \n",
       "4    12350.00   2014-1-6  \n",
       "..        ...        ...  \n",
       "555  -7590.00  2014-1-11  \n",
       "556  12375.00   2014-1-3  \n",
       "557   1299.60   2014-1-2  \n",
       "558    686.85   2014-1-4  \n",
       "559  13003.20   2014-1-5  \n",
       "\n",
       "[560 rows x 8 columns]"
      ]
     },
     "execution_count": 59,
     "metadata": {},
     "output_type": "execute_result"
    }
   ],
   "source": [
    "pd.read_sql_query(\"SELECT * FROM fatos_vendas\", con=dbconn)"
   ]
  },
  {
   "cell_type": "markdown",
   "id": "9244d613",
   "metadata": {},
   "source": [
    "### Análise dos dados da Planilha Financeiro Simples "
   ]
  },
  {
   "cell_type": "markdown",
   "id": "5c00a654",
   "metadata": {},
   "source": [
    "#### 1 - Calcular o total de vendas brutas ?? "
   ]
  },
  {
   "cell_type": "code",
   "execution_count": 60,
   "id": "3778f1e8",
   "metadata": {},
   "outputs": [],
   "source": [
    "consulta_total_vendas_brutas = '''\n",
    "    \n",
    "    SELECT SUM(vendas_brutas) AS total_vendas_brutas FROM fatos_vendas\n",
    "    \n",
    "'''"
   ]
  },
  {
   "cell_type": "code",
   "execution_count": 134,
   "id": "a7fc838b",
   "metadata": {},
   "outputs": [],
   "source": [
    "resultado_1 = pd.read_sql_query(consulta_total_vendas_brutas, con=dbconn)"
   ]
  },
  {
   "cell_type": "code",
   "execution_count": 63,
   "id": "1c1ecb4a",
   "metadata": {},
   "outputs": [],
   "source": [
    "resultado_1[\"total_vendas_brutas\"] = resultado_1[\"total_vendas_brutas\"].map(lambda x: \"R$ {:,.2f}\".format(x))"
   ]
  },
  {
   "cell_type": "code",
   "execution_count": 64,
   "id": "983b3829",
   "metadata": {},
   "outputs": [
    {
     "data": {
      "text/html": [
       "<div>\n",
       "<style scoped>\n",
       "    .dataframe tbody tr th:only-of-type {\n",
       "        vertical-align: middle;\n",
       "    }\n",
       "\n",
       "    .dataframe tbody tr th {\n",
       "        vertical-align: top;\n",
       "    }\n",
       "\n",
       "    .dataframe thead th {\n",
       "        text-align: right;\n",
       "    }\n",
       "</style>\n",
       "<table border=\"1\" class=\"dataframe\">\n",
       "  <thead>\n",
       "    <tr style=\"text-align: right;\">\n",
       "      <th></th>\n",
       "      <th>total_vendas_brutas</th>\n",
       "    </tr>\n",
       "  </thead>\n",
       "  <tbody>\n",
       "    <tr>\n",
       "      <th>0</th>\n",
       "      <td>R$ 104,971,922.50</td>\n",
       "    </tr>\n",
       "  </tbody>\n",
       "</table>\n",
       "</div>"
      ],
      "text/plain": [
       "  total_vendas_brutas\n",
       "0   R$ 104,971,922.50"
      ]
     },
     "execution_count": 64,
     "metadata": {},
     "output_type": "execute_result"
    }
   ],
   "source": [
    "resultado_1"
   ]
  },
  {
   "cell_type": "markdown",
   "id": "3c29bf7b",
   "metadata": {},
   "source": [
    "#### 2 - Calcular o total de vendas brutas: "
   ]
  },
  {
   "cell_type": "code",
   "execution_count": 65,
   "id": "3162bd74",
   "metadata": {},
   "outputs": [],
   "source": [
    "consulta_lucro_total = '''\n",
    "    \n",
    "    SELECT SUM(lucro) as lucro_total FROM fatos_vendas \n",
    "    \n",
    "'''"
   ]
  },
  {
   "cell_type": "code",
   "execution_count": 66,
   "id": "6ed4e6d6",
   "metadata": {},
   "outputs": [],
   "source": [
    "resultado_2 = pd.read_sql_query(consulta_lucro_total, con=dbconn)"
   ]
  },
  {
   "cell_type": "code",
   "execution_count": 68,
   "id": "62641974",
   "metadata": {},
   "outputs": [],
   "source": [
    "resultado_2[\"lucro_total\"] = resultado_2[\"lucro_total\"].map(lambda x: \"R$ {:,.2f}\".format(x))"
   ]
  },
  {
   "cell_type": "code",
   "execution_count": 69,
   "id": "92935253",
   "metadata": {},
   "outputs": [
    {
     "data": {
      "text/html": [
       "<div>\n",
       "<style scoped>\n",
       "    .dataframe tbody tr th:only-of-type {\n",
       "        vertical-align: middle;\n",
       "    }\n",
       "\n",
       "    .dataframe tbody tr th {\n",
       "        vertical-align: top;\n",
       "    }\n",
       "\n",
       "    .dataframe thead th {\n",
       "        text-align: right;\n",
       "    }\n",
       "</style>\n",
       "<table border=\"1\" class=\"dataframe\">\n",
       "  <thead>\n",
       "    <tr style=\"text-align: right;\">\n",
       "      <th></th>\n",
       "      <th>lucro_total</th>\n",
       "    </tr>\n",
       "  </thead>\n",
       "  <tbody>\n",
       "    <tr>\n",
       "      <th>0</th>\n",
       "      <td>R$ 13,424,051.92</td>\n",
       "    </tr>\n",
       "  </tbody>\n",
       "</table>\n",
       "</div>"
      ],
      "text/plain": [
       "        lucro_total\n",
       "0  R$ 13,424,051.92"
      ]
     },
     "execution_count": 69,
     "metadata": {},
     "output_type": "execute_result"
    }
   ],
   "source": [
    "resultado_2"
   ]
  },
  {
   "cell_type": "markdown",
   "id": "1a0edbca",
   "metadata": {},
   "source": [
    "#### 3 - Vendas por país "
   ]
  },
  {
   "cell_type": "code",
   "execution_count": 70,
   "id": "16a66949",
   "metadata": {},
   "outputs": [],
   "source": [
    "vendas_por_pais = '''\n",
    "    \n",
    "    SELECT dp.pais, SUM(fv.vendas) AS total_vendas \n",
    "    FROM fatos_vendas fv \n",
    "    JOIN dim_pais dp ON fv.id = dp.id \n",
    "    GROUP BY dp.pais\n",
    "    \n",
    "'''"
   ]
  },
  {
   "cell_type": "code",
   "execution_count": 71,
   "id": "ddcd2c2d",
   "metadata": {},
   "outputs": [],
   "source": [
    "resultado_3 = pd.read_sql_query(vendas_por_pais, con=dbconn)"
   ]
  },
  {
   "cell_type": "code",
   "execution_count": 73,
   "id": "7643a13d",
   "metadata": {},
   "outputs": [],
   "source": [
    "resultado_3[\"total_vendas\"] = resultado_3[\"total_vendas\"].map(lambda x: \"R$ {:,.2f}\".format(x))"
   ]
  },
  {
   "cell_type": "code",
   "execution_count": 76,
   "id": "43ab6a1a",
   "metadata": {},
   "outputs": [
    {
     "data": {
      "text/html": [
       "<div>\n",
       "<style scoped>\n",
       "    .dataframe tbody tr th:only-of-type {\n",
       "        vertical-align: middle;\n",
       "    }\n",
       "\n",
       "    .dataframe tbody tr th {\n",
       "        vertical-align: top;\n",
       "    }\n",
       "\n",
       "    .dataframe thead th {\n",
       "        text-align: right;\n",
       "    }\n",
       "</style>\n",
       "<table border=\"1\" class=\"dataframe\">\n",
       "  <thead>\n",
       "    <tr style=\"text-align: right;\">\n",
       "      <th></th>\n",
       "      <th>pais</th>\n",
       "      <th>total_vendas</th>\n",
       "    </tr>\n",
       "  </thead>\n",
       "  <tbody>\n",
       "    <tr>\n",
       "      <th>4</th>\n",
       "      <td>United States of America</td>\n",
       "      <td>R$ 37,050.00</td>\n",
       "    </tr>\n",
       "    <tr>\n",
       "      <th>1</th>\n",
       "      <td>France</td>\n",
       "      <td>R$ 32,670.00</td>\n",
       "    </tr>\n",
       "    <tr>\n",
       "      <th>0</th>\n",
       "      <td>Canada</td>\n",
       "      <td>R$ 32,370.00</td>\n",
       "    </tr>\n",
       "    <tr>\n",
       "      <th>2</th>\n",
       "      <td>Germany</td>\n",
       "      <td>R$ 26,420.00</td>\n",
       "    </tr>\n",
       "    <tr>\n",
       "      <th>3</th>\n",
       "      <td>Mexico</td>\n",
       "      <td>R$ 13,320.00</td>\n",
       "    </tr>\n",
       "  </tbody>\n",
       "</table>\n",
       "</div>"
      ],
      "text/plain": [
       "                       pais  total_vendas\n",
       "4  United States of America  R$ 37,050.00\n",
       "1                    France  R$ 32,670.00\n",
       "0                    Canada  R$ 32,370.00\n",
       "2                   Germany  R$ 26,420.00\n",
       "3                    Mexico  R$ 13,320.00"
      ]
     },
     "execution_count": 76,
     "metadata": {},
     "output_type": "execute_result"
    }
   ],
   "source": [
    "resultado_3 = resultado_3.sort_values(by='total_vendas', ascending=False)\n",
    "resultado_3"
   ]
  },
  {
   "cell_type": "markdown",
   "id": "a516a885",
   "metadata": {},
   "source": [
    "#### 4 - Vendas por Segmento "
   ]
  },
  {
   "cell_type": "code",
   "execution_count": 77,
   "id": "68ce92ef",
   "metadata": {},
   "outputs": [],
   "source": [
    "vendas_por_segmento = '''\n",
    "    \n",
    "    SELECT ds.segmento, SUM(fv.vendas) AS total_vendas \n",
    "    FROM fatos_vendas fv \n",
    "    JOIN dim_segmento ds ON fv.id = ds.id \n",
    "    GROUP BY ds.segmento \n",
    "    \n",
    "'''"
   ]
  },
  {
   "cell_type": "code",
   "execution_count": 78,
   "id": "140b0a25",
   "metadata": {},
   "outputs": [],
   "source": [
    "resultado_4 = pd.read_sql_query(vendas_por_segmento, con=dbconn)"
   ]
  },
  {
   "cell_type": "code",
   "execution_count": 80,
   "id": "94bb6562",
   "metadata": {},
   "outputs": [],
   "source": [
    "resultado_4[\"total_vendas\"] = resultado_4[\"total_vendas\"].map(lambda x: \"R$ {:,.2f}\".format(x))"
   ]
  },
  {
   "cell_type": "code",
   "execution_count": 82,
   "id": "5fbe62ae",
   "metadata": {},
   "outputs": [
    {
     "data": {
      "text/html": [
       "<div>\n",
       "<style scoped>\n",
       "    .dataframe tbody tr th:only-of-type {\n",
       "        vertical-align: middle;\n",
       "    }\n",
       "\n",
       "    .dataframe tbody tr th {\n",
       "        vertical-align: top;\n",
       "    }\n",
       "\n",
       "    .dataframe thead th {\n",
       "        text-align: right;\n",
       "    }\n",
       "</style>\n",
       "<table border=\"1\" class=\"dataframe\">\n",
       "  <thead>\n",
       "    <tr style=\"text-align: right;\">\n",
       "      <th></th>\n",
       "      <th>segmento</th>\n",
       "      <th>total_vendas</th>\n",
       "    </tr>\n",
       "  </thead>\n",
       "  <tbody>\n",
       "    <tr>\n",
       "      <th>4</th>\n",
       "      <td>Small Business</td>\n",
       "      <td>R$ 37,050.00</td>\n",
       "    </tr>\n",
       "    <tr>\n",
       "      <th>0</th>\n",
       "      <td>Channel Partners</td>\n",
       "      <td>R$ 32,670.00</td>\n",
       "    </tr>\n",
       "    <tr>\n",
       "      <th>2</th>\n",
       "      <td>Government</td>\n",
       "      <td>R$ 32,370.00</td>\n",
       "    </tr>\n",
       "    <tr>\n",
       "      <th>3</th>\n",
       "      <td>Midmarket</td>\n",
       "      <td>R$ 26,420.00</td>\n",
       "    </tr>\n",
       "    <tr>\n",
       "      <th>1</th>\n",
       "      <td>Enterprise</td>\n",
       "      <td>R$ 13,320.00</td>\n",
       "    </tr>\n",
       "  </tbody>\n",
       "</table>\n",
       "</div>"
      ],
      "text/plain": [
       "           segmento  total_vendas\n",
       "4    Small Business  R$ 37,050.00\n",
       "0  Channel Partners  R$ 32,670.00\n",
       "2        Government  R$ 32,370.00\n",
       "3         Midmarket  R$ 26,420.00\n",
       "1        Enterprise  R$ 13,320.00"
      ]
     },
     "execution_count": 82,
     "metadata": {},
     "output_type": "execute_result"
    }
   ],
   "source": [
    "resultado_4 = resultado_4.sort_values(by='total_vendas', ascending=False)\n",
    "resultado_4"
   ]
  },
  {
   "cell_type": "markdown",
   "id": "0e2d746a",
   "metadata": {},
   "source": [
    "#### 5 - Lucro por produto "
   ]
  },
  {
   "cell_type": "code",
   "execution_count": 86,
   "id": "7767847f",
   "metadata": {},
   "outputs": [],
   "source": [
    "lucro_por_produto = '''\n",
    "    \n",
    "    SELECT dp.produto, SUM(fv.lucro) AS total_lucro \n",
    "    FROM fatos_vendas fv \n",
    "    JOIN dim_produto dp ON fv.id = dp.id \n",
    "    GROUP BY dp.produto \n",
    "    \n",
    "'''"
   ]
  },
  {
   "cell_type": "code",
   "execution_count": 87,
   "id": "7fd337f1",
   "metadata": {},
   "outputs": [],
   "source": [
    "resultado_5 = pd.read_sql_query(lucro_por_produto, con=dbconn)"
   ]
  },
  {
   "cell_type": "code",
   "execution_count": 88,
   "id": "cc9ada6f",
   "metadata": {},
   "outputs": [],
   "source": [
    "resultado_5[\"total_lucro\"] = resultado_5[\"total_lucro\"].map(lambda x: \"R$ {:,.2f}\".format(x))"
   ]
  },
  {
   "cell_type": "code",
   "execution_count": 89,
   "id": "e9bfc76a",
   "metadata": {},
   "outputs": [
    {
     "data": {
      "text/html": [
       "<div>\n",
       "<style scoped>\n",
       "    .dataframe tbody tr th:only-of-type {\n",
       "        vertical-align: middle;\n",
       "    }\n",
       "\n",
       "    .dataframe tbody tr th {\n",
       "        vertical-align: top;\n",
       "    }\n",
       "\n",
       "    .dataframe thead th {\n",
       "        text-align: right;\n",
       "    }\n",
       "</style>\n",
       "<table border=\"1\" class=\"dataframe\">\n",
       "  <thead>\n",
       "    <tr style=\"text-align: right;\">\n",
       "      <th></th>\n",
       "      <th>produto</th>\n",
       "      <th>total_lucro</th>\n",
       "    </tr>\n",
       "  </thead>\n",
       "  <tbody>\n",
       "    <tr>\n",
       "      <th>3</th>\n",
       "      <td>Paseo</td>\n",
       "      <td>R$ 3,710,068.82</td>\n",
       "    </tr>\n",
       "    <tr>\n",
       "      <th>5</th>\n",
       "      <td>Velo</td>\n",
       "      <td>R$ 2,605,433.32</td>\n",
       "    </tr>\n",
       "    <tr>\n",
       "      <th>2</th>\n",
       "      <td>Montana</td>\n",
       "      <td>R$ 2,003,156.83</td>\n",
       "    </tr>\n",
       "    <tr>\n",
       "      <th>1</th>\n",
       "      <td>Carretera</td>\n",
       "      <td>R$ 1,967,132.90</td>\n",
       "    </tr>\n",
       "    <tr>\n",
       "      <th>4</th>\n",
       "      <td>VTT</td>\n",
       "      <td>R$ 1,753,510.76</td>\n",
       "    </tr>\n",
       "    <tr>\n",
       "      <th>0</th>\n",
       "      <td>Amarilla</td>\n",
       "      <td>R$ 1,384,749.29</td>\n",
       "    </tr>\n",
       "  </tbody>\n",
       "</table>\n",
       "</div>"
      ],
      "text/plain": [
       "     produto      total_lucro\n",
       "3      Paseo  R$ 3,710,068.82\n",
       "5       Velo  R$ 2,605,433.32\n",
       "2    Montana  R$ 2,003,156.83\n",
       "1  Carretera  R$ 1,967,132.90\n",
       "4        VTT  R$ 1,753,510.76\n",
       "0   Amarilla  R$ 1,384,749.29"
      ]
     },
     "execution_count": 89,
     "metadata": {},
     "output_type": "execute_result"
    }
   ],
   "source": [
    "resultado_5 = resultado_5.sort_values(by='total_lucro', ascending=False)\n",
    "resultado_5"
   ]
  },
  {
   "cell_type": "markdown",
   "id": "bcdb5a55",
   "metadata": {},
   "source": [
    "#### 6 - Análise COGS por Segmento"
   ]
  },
  {
   "cell_type": "code",
   "execution_count": 107,
   "id": "2b6e01dc",
   "metadata": {},
   "outputs": [],
   "source": [
    "cogs_por_segmento = '''\n",
    "\n",
    "    SELECT ds.segmento, SUM(fv.cogs) AS total_cogs \n",
    "    FROM fatos_vendas fv \n",
    "    JOIN dim_segmento ds ON fv.id = ds.id \n",
    "    GROUP BY ds.segmento\n",
    "    \n",
    "'''"
   ]
  },
  {
   "cell_type": "code",
   "execution_count": 108,
   "id": "c94834ff",
   "metadata": {},
   "outputs": [],
   "source": [
    "resultado_6_1 = pd.read_sql_query(cogs_por_segmento, con=dbconn)"
   ]
  },
  {
   "cell_type": "code",
   "execution_count": 111,
   "id": "1b221585",
   "metadata": {},
   "outputs": [],
   "source": [
    "resultado_6_1[\"total_cogs\"] = resultado_6_1[\"total_cogs\"].map(lambda x: \"R$ {:,.2f}\".format(x)) "
   ]
  },
  {
   "cell_type": "code",
   "execution_count": 117,
   "id": "a3ad7ca8",
   "metadata": {},
   "outputs": [],
   "source": [
    "resultado_6_1 = resultado_6_1.sort_values(by='total_cogs', ascending=False)"
   ]
  },
  {
   "cell_type": "code",
   "execution_count": 118,
   "id": "84a6dbb6",
   "metadata": {},
   "outputs": [
    {
     "data": {
      "text/html": [
       "<div>\n",
       "<style scoped>\n",
       "    .dataframe tbody tr th:only-of-type {\n",
       "        vertical-align: middle;\n",
       "    }\n",
       "\n",
       "    .dataframe tbody tr th {\n",
       "        vertical-align: top;\n",
       "    }\n",
       "\n",
       "    .dataframe thead th {\n",
       "        text-align: right;\n",
       "    }\n",
       "</style>\n",
       "<table border=\"1\" class=\"dataframe\">\n",
       "  <thead>\n",
       "    <tr style=\"text-align: right;\">\n",
       "      <th></th>\n",
       "      <th>segmento</th>\n",
       "      <th>total_cogs</th>\n",
       "    </tr>\n",
       "  </thead>\n",
       "  <tbody>\n",
       "    <tr>\n",
       "      <th>1</th>\n",
       "      <td>Enterprise</td>\n",
       "      <td>R$ 8,880.00</td>\n",
       "    </tr>\n",
       "    <tr>\n",
       "      <th>4</th>\n",
       "      <td>Small Business</td>\n",
       "      <td>R$ 24,700.00</td>\n",
       "    </tr>\n",
       "    <tr>\n",
       "      <th>0</th>\n",
       "      <td>Channel Partners</td>\n",
       "      <td>R$ 21,780.00</td>\n",
       "    </tr>\n",
       "    <tr>\n",
       "      <th>2</th>\n",
       "      <td>Government</td>\n",
       "      <td>R$ 16,185.00</td>\n",
       "    </tr>\n",
       "    <tr>\n",
       "      <th>3</th>\n",
       "      <td>Midmarket</td>\n",
       "      <td>R$ 13,210.00</td>\n",
       "    </tr>\n",
       "  </tbody>\n",
       "</table>\n",
       "</div>"
      ],
      "text/plain": [
       "           segmento    total_cogs\n",
       "1        Enterprise   R$ 8,880.00\n",
       "4    Small Business  R$ 24,700.00\n",
       "0  Channel Partners  R$ 21,780.00\n",
       "2        Government  R$ 16,185.00\n",
       "3         Midmarket  R$ 13,210.00"
      ]
     },
     "execution_count": 118,
     "metadata": {},
     "output_type": "execute_result"
    }
   ],
   "source": [
    "resultado_6_1"
   ]
  },
  {
   "cell_type": "markdown",
   "id": "ea45d089",
   "metadata": {},
   "source": [
    "#### 7 - Análise COGS por País "
   ]
  },
  {
   "cell_type": "code",
   "execution_count": 121,
   "id": "93594b58",
   "metadata": {},
   "outputs": [],
   "source": [
    "cogs_por_pais = '''\n",
    "    \n",
    "    SELECT dp.pais, SUM(fv.cogs) AS total_cogs \n",
    "    FROM fatos_vendas fv \n",
    "    JOIN dim_pais dp ON fv.id = dp.id \n",
    "    GROUP BY dp.pais\n",
    "    \n",
    "'''"
   ]
  },
  {
   "cell_type": "code",
   "execution_count": 122,
   "id": "56a0d134",
   "metadata": {},
   "outputs": [],
   "source": [
    "resultado_7 = pd.read_sql_query(cogs_por_pais, con=dbconn)"
   ]
  },
  {
   "cell_type": "code",
   "execution_count": 124,
   "id": "7f9508bb",
   "metadata": {},
   "outputs": [],
   "source": [
    "resultado_7[\"total_cogs\"] = resultado_7[\"total_cogs\"].map(lambda x: \"R$ {:,.2f}\".format(x)) "
   ]
  },
  {
   "cell_type": "code",
   "execution_count": 125,
   "id": "7c3e464b",
   "metadata": {},
   "outputs": [],
   "source": [
    "resultado_7 = resultado_7.sort_values(by='total_cogs', ascending=False)"
   ]
  },
  {
   "cell_type": "code",
   "execution_count": 126,
   "id": "1623c122",
   "metadata": {},
   "outputs": [
    {
     "data": {
      "text/html": [
       "<div>\n",
       "<style scoped>\n",
       "    .dataframe tbody tr th:only-of-type {\n",
       "        vertical-align: middle;\n",
       "    }\n",
       "\n",
       "    .dataframe tbody tr th {\n",
       "        vertical-align: top;\n",
       "    }\n",
       "\n",
       "    .dataframe thead th {\n",
       "        text-align: right;\n",
       "    }\n",
       "</style>\n",
       "<table border=\"1\" class=\"dataframe\">\n",
       "  <thead>\n",
       "    <tr style=\"text-align: right;\">\n",
       "      <th></th>\n",
       "      <th>pais</th>\n",
       "      <th>total_cogs</th>\n",
       "    </tr>\n",
       "  </thead>\n",
       "  <tbody>\n",
       "    <tr>\n",
       "      <th>3</th>\n",
       "      <td>Mexico</td>\n",
       "      <td>R$ 8,880.00</td>\n",
       "    </tr>\n",
       "    <tr>\n",
       "      <th>4</th>\n",
       "      <td>United States of America</td>\n",
       "      <td>R$ 24,700.00</td>\n",
       "    </tr>\n",
       "    <tr>\n",
       "      <th>1</th>\n",
       "      <td>France</td>\n",
       "      <td>R$ 21,780.00</td>\n",
       "    </tr>\n",
       "    <tr>\n",
       "      <th>0</th>\n",
       "      <td>Canada</td>\n",
       "      <td>R$ 16,185.00</td>\n",
       "    </tr>\n",
       "    <tr>\n",
       "      <th>2</th>\n",
       "      <td>Germany</td>\n",
       "      <td>R$ 13,210.00</td>\n",
       "    </tr>\n",
       "  </tbody>\n",
       "</table>\n",
       "</div>"
      ],
      "text/plain": [
       "                       pais    total_cogs\n",
       "3                    Mexico   R$ 8,880.00\n",
       "4  United States of America  R$ 24,700.00\n",
       "1                    France  R$ 21,780.00\n",
       "0                    Canada  R$ 16,185.00\n",
       "2                   Germany  R$ 13,210.00"
      ]
     },
     "execution_count": 126,
     "metadata": {},
     "output_type": "execute_result"
    }
   ],
   "source": [
    "resultado_7"
   ]
  },
  {
   "cell_type": "markdown",
   "id": "1d572fd8",
   "metadata": {},
   "source": [
    "#### 8 - Análise por COGS por Produto "
   ]
  },
  {
   "cell_type": "code",
   "execution_count": 127,
   "id": "8d66c963",
   "metadata": {},
   "outputs": [],
   "source": [
    "cogs_por_produto = '''\n",
    "    \n",
    "    SELECT dp.produto, SUM(fv.cogs) AS total_cogs \n",
    "    FROM fatos_vendas fv \n",
    "    JOIN dim_produto dp ON fv.id = dp.id \n",
    "    GROUP BY dp.produto\n",
    "    \n",
    "'''"
   ]
  },
  {
   "cell_type": "code",
   "execution_count": 128,
   "id": "35d10813",
   "metadata": {},
   "outputs": [],
   "source": [
    "resultado_8 = pd.read_sql_query(cogs_por_produto, con=dbconn)"
   ]
  },
  {
   "cell_type": "code",
   "execution_count": 129,
   "id": "df9e0bea",
   "metadata": {},
   "outputs": [],
   "source": [
    "resultado_8[\"total_cogs\"] = resultado_8[\"total_cogs\"].map(lambda x: \"R$ {:,.2f}\".format(x)) "
   ]
  },
  {
   "cell_type": "code",
   "execution_count": 132,
   "id": "0db45887",
   "metadata": {},
   "outputs": [],
   "source": [
    "resultado_8 = resultado_8.sort_values(by='total_cogs', ascending=True)"
   ]
  },
  {
   "cell_type": "code",
   "execution_count": 133,
   "id": "394f2d04",
   "metadata": {},
   "outputs": [
    {
     "data": {
      "text/html": [
       "<div>\n",
       "<style scoped>\n",
       "    .dataframe tbody tr th:only-of-type {\n",
       "        vertical-align: middle;\n",
       "    }\n",
       "\n",
       "    .dataframe tbody tr th {\n",
       "        vertical-align: top;\n",
       "    }\n",
       "\n",
       "    .dataframe thead th {\n",
       "        text-align: right;\n",
       "    }\n",
       "</style>\n",
       "<table border=\"1\" class=\"dataframe\">\n",
       "  <thead>\n",
       "    <tr style=\"text-align: right;\">\n",
       "      <th></th>\n",
       "      <th>produto</th>\n",
       "      <th>total_cogs</th>\n",
       "    </tr>\n",
       "  </thead>\n",
       "  <tbody>\n",
       "    <tr>\n",
       "      <th>4</th>\n",
       "      <td>VTT</td>\n",
       "      <td>R$ 11,607,759.50</td>\n",
       "    </tr>\n",
       "    <tr>\n",
       "      <th>2</th>\n",
       "      <td>Montana</td>\n",
       "      <td>R$ 12,671,184.00</td>\n",
       "    </tr>\n",
       "    <tr>\n",
       "      <th>1</th>\n",
       "      <td>Carretera</td>\n",
       "      <td>R$ 13,535,576.50</td>\n",
       "    </tr>\n",
       "    <tr>\n",
       "      <th>5</th>\n",
       "      <td>Velo</td>\n",
       "      <td>R$ 18,006,980.50</td>\n",
       "    </tr>\n",
       "    <tr>\n",
       "      <th>3</th>\n",
       "      <td>Paseo</td>\n",
       "      <td>R$ 19,506,122.50</td>\n",
       "    </tr>\n",
       "    <tr>\n",
       "      <th>0</th>\n",
       "      <td>Amarilla</td>\n",
       "      <td>R$ 8,380,119.00</td>\n",
       "    </tr>\n",
       "  </tbody>\n",
       "</table>\n",
       "</div>"
      ],
      "text/plain": [
       "     produto        total_cogs\n",
       "4        VTT  R$ 11,607,759.50\n",
       "2    Montana  R$ 12,671,184.00\n",
       "1  Carretera  R$ 13,535,576.50\n",
       "5       Velo  R$ 18,006,980.50\n",
       "3      Paseo  R$ 19,506,122.50\n",
       "0   Amarilla   R$ 8,380,119.00"
      ]
     },
     "execution_count": 133,
     "metadata": {},
     "output_type": "execute_result"
    }
   ],
   "source": [
    "resultado_8"
   ]
  },
  {
   "cell_type": "markdown",
   "id": "f2375e3f",
   "metadata": {},
   "source": [
    "#### 9 - Qual é o total e a média de preço de fabricação ?? "
   ]
  },
  {
   "cell_type": "code",
   "execution_count": 149,
   "id": "2d82e70c",
   "metadata": {},
   "outputs": [],
   "source": [
    "precao_fabricacao_total = '''\n",
    "    \n",
    "    SELECT produto, SUM(preco_de_fabricacao) AS total, AVG(preco_de_fabricacao) AS media FROM dim_produto\n",
    "    GROUP BY produto\n",
    "    \n",
    "'''"
   ]
  },
  {
   "cell_type": "code",
   "execution_count": 150,
   "id": "bec85f79",
   "metadata": {},
   "outputs": [],
   "source": [
    "resultado_9 = pd.read_sql_query(precao_fabricacao_total, con=dbconn)"
   ]
  },
  {
   "cell_type": "code",
   "execution_count": 153,
   "id": "47260cde",
   "metadata": {},
   "outputs": [],
   "source": [
    "resultado_9[\"total\"] = resultado_9[\"total\"].map(lambda x: \"R$ {:,.2f}\".format(x)) "
   ]
  },
  {
   "cell_type": "code",
   "execution_count": 154,
   "id": "7b3a9ff2",
   "metadata": {},
   "outputs": [],
   "source": [
    "resultado_9[\"media\"] = resultado_9[\"media\"].map(lambda x: \"R$ {:,.2f}\".format(x))"
   ]
  },
  {
   "cell_type": "code",
   "execution_count": 155,
   "id": "e74966c8",
   "metadata": {},
   "outputs": [],
   "source": [
    "resultado_9 = resultado_9.sort_values(by='total', ascending=False)"
   ]
  },
  {
   "cell_type": "code",
   "execution_count": 156,
   "id": "5e492fe5",
   "metadata": {},
   "outputs": [
    {
     "data": {
      "text/html": [
       "<div>\n",
       "<style scoped>\n",
       "    .dataframe tbody tr th:only-of-type {\n",
       "        vertical-align: middle;\n",
       "    }\n",
       "\n",
       "    .dataframe tbody tr th {\n",
       "        vertical-align: top;\n",
       "    }\n",
       "\n",
       "    .dataframe thead th {\n",
       "        text-align: right;\n",
       "    }\n",
       "</style>\n",
       "<table border=\"1\" class=\"dataframe\">\n",
       "  <thead>\n",
       "    <tr style=\"text-align: right;\">\n",
       "      <th></th>\n",
       "      <th>produto</th>\n",
       "      <th>total</th>\n",
       "      <th>media</th>\n",
       "    </tr>\n",
       "  </thead>\n",
       "  <tbody>\n",
       "    <tr>\n",
       "      <th>3</th>\n",
       "      <td>Paseo</td>\n",
       "      <td>R$ 334,615.50</td>\n",
       "      <td>R$ 1,681.48</td>\n",
       "    </tr>\n",
       "    <tr>\n",
       "      <th>4</th>\n",
       "      <td>VTT</td>\n",
       "      <td>R$ 168,783.00</td>\n",
       "      <td>R$ 1,548.47</td>\n",
       "    </tr>\n",
       "    <tr>\n",
       "      <th>5</th>\n",
       "      <td>Velo</td>\n",
       "      <td>R$ 161,761.50</td>\n",
       "      <td>R$ 1,497.79</td>\n",
       "    </tr>\n",
       "    <tr>\n",
       "      <th>0</th>\n",
       "      <td>Amarilla</td>\n",
       "      <td>R$ 155,315.00</td>\n",
       "      <td>R$ 1,652.29</td>\n",
       "    </tr>\n",
       "    <tr>\n",
       "      <th>2</th>\n",
       "      <td>Montana</td>\n",
       "      <td>R$ 151,856.00</td>\n",
       "      <td>R$ 1,650.61</td>\n",
       "    </tr>\n",
       "    <tr>\n",
       "      <th>1</th>\n",
       "      <td>Carretera</td>\n",
       "      <td>R$ 146,846.00</td>\n",
       "      <td>R$ 1,578.99</td>\n",
       "    </tr>\n",
       "  </tbody>\n",
       "</table>\n",
       "</div>"
      ],
      "text/plain": [
       "     produto          total        media\n",
       "3      Paseo  R$ 334,615.50  R$ 1,681.48\n",
       "4        VTT  R$ 168,783.00  R$ 1,548.47\n",
       "5       Velo  R$ 161,761.50  R$ 1,497.79\n",
       "0   Amarilla  R$ 155,315.00  R$ 1,652.29\n",
       "2    Montana  R$ 151,856.00  R$ 1,650.61\n",
       "1  Carretera  R$ 146,846.00  R$ 1,578.99"
      ]
     },
     "execution_count": 156,
     "metadata": {},
     "output_type": "execute_result"
    }
   ],
   "source": [
    "resultado_9"
   ]
  },
  {
   "cell_type": "markdown",
   "id": "c11363cd",
   "metadata": {},
   "source": [
    "#### 10 - Qual é o total e a média de preço de venda ?? "
   ]
  },
  {
   "cell_type": "code",
   "execution_count": 157,
   "id": "df4cd787",
   "metadata": {},
   "outputs": [],
   "source": [
    "precao_venda_total_media = '''\n",
    "    \n",
    "    SELECT produto, SUM(preco_de_venda) AS total, AVG(preco_de_venda) AS media FROM dim_produto\n",
    "    GROUP BY produto\n",
    "    \n",
    "'''"
   ]
  },
  {
   "cell_type": "code",
   "execution_count": 158,
   "id": "3b9cafbe",
   "metadata": {},
   "outputs": [],
   "source": [
    "resultado_10 = pd.read_sql_query(precao_venda_total_media, con=dbconn)"
   ]
  },
  {
   "cell_type": "code",
   "execution_count": 159,
   "id": "fe40acdf",
   "metadata": {},
   "outputs": [],
   "source": [
    "resultado_10[\"total\"] = resultado_10[\"total\"].map(lambda x: \"R$ {:,.2f}\".format(x)) "
   ]
  },
  {
   "cell_type": "code",
   "execution_count": 160,
   "id": "e2d4e6a7",
   "metadata": {},
   "outputs": [],
   "source": [
    "resultado_10[\"media\"] = resultado_10[\"media\"].map(lambda x: \"R$ {:,.2f}\".format(x))"
   ]
  },
  {
   "cell_type": "code",
   "execution_count": 161,
   "id": "7d6abe35",
   "metadata": {},
   "outputs": [],
   "source": [
    "resultado_10 = resultado_10.sort_values(by='total', ascending=False)"
   ]
  },
  {
   "cell_type": "code",
   "execution_count": 162,
   "id": "c901acf9",
   "metadata": {},
   "outputs": [
    {
     "data": {
      "text/html": [
       "<div>\n",
       "<style scoped>\n",
       "    .dataframe tbody tr th:only-of-type {\n",
       "        vertical-align: middle;\n",
       "    }\n",
       "\n",
       "    .dataframe tbody tr th {\n",
       "        vertical-align: top;\n",
       "    }\n",
       "\n",
       "    .dataframe thead th {\n",
       "        text-align: right;\n",
       "    }\n",
       "</style>\n",
       "<table border=\"1\" class=\"dataframe\">\n",
       "  <thead>\n",
       "    <tr style=\"text-align: right;\">\n",
       "      <th></th>\n",
       "      <th>produto</th>\n",
       "      <th>total</th>\n",
       "      <th>media</th>\n",
       "    </tr>\n",
       "  </thead>\n",
       "  <tbody>\n",
       "    <tr>\n",
       "      <th>3</th>\n",
       "      <td>Paseo</td>\n",
       "      <td>R$ 21,810.00</td>\n",
       "      <td>R$ 109.60</td>\n",
       "    </tr>\n",
       "    <tr>\n",
       "      <th>4</th>\n",
       "      <td>VTT</td>\n",
       "      <td>R$ 15,106.00</td>\n",
       "      <td>R$ 138.59</td>\n",
       "    </tr>\n",
       "    <tr>\n",
       "      <th>5</th>\n",
       "      <td>Velo</td>\n",
       "      <td>R$ 12,436.00</td>\n",
       "      <td>R$ 115.15</td>\n",
       "    </tr>\n",
       "    <tr>\n",
       "      <th>0</th>\n",
       "      <td>Amarilla</td>\n",
       "      <td>R$ 12,096.00</td>\n",
       "      <td>R$ 128.68</td>\n",
       "    </tr>\n",
       "    <tr>\n",
       "      <th>2</th>\n",
       "      <td>Montana</td>\n",
       "      <td>R$ 10,878.00</td>\n",
       "      <td>R$ 118.24</td>\n",
       "    </tr>\n",
       "    <tr>\n",
       "      <th>1</th>\n",
       "      <td>Carretera</td>\n",
       "      <td>R$ 10,395.00</td>\n",
       "      <td>R$ 111.77</td>\n",
       "    </tr>\n",
       "  </tbody>\n",
       "</table>\n",
       "</div>"
      ],
      "text/plain": [
       "     produto         total      media\n",
       "3      Paseo  R$ 21,810.00  R$ 109.60\n",
       "4        VTT  R$ 15,106.00  R$ 138.59\n",
       "5       Velo  R$ 12,436.00  R$ 115.15\n",
       "0   Amarilla  R$ 12,096.00  R$ 128.68\n",
       "2    Montana  R$ 10,878.00  R$ 118.24\n",
       "1  Carretera  R$ 10,395.00  R$ 111.77"
      ]
     },
     "execution_count": 162,
     "metadata": {},
     "output_type": "execute_result"
    }
   ],
   "source": [
    "resultado_10"
   ]
  }
 ],
 "metadata": {
  "kernelspec": {
   "display_name": "Python 3 (ipykernel)",
   "language": "python",
   "name": "python3"
  },
  "language_info": {
   "codemirror_mode": {
    "name": "ipython",
    "version": 3
   },
   "file_extension": ".py",
   "mimetype": "text/x-python",
   "name": "python",
   "nbconvert_exporter": "python",
   "pygments_lexer": "ipython3",
   "version": "3.9.13"
  }
 },
 "nbformat": 4,
 "nbformat_minor": 5
}
